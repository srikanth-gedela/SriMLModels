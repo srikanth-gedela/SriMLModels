{
 "cells": [
  {
   "cell_type": "markdown",
   "metadata": {},
   "source": [
    "### Importing libraries"
   ]
  },
  {
   "cell_type": "code",
   "execution_count": 1,
   "metadata": {},
   "outputs": [],
   "source": [
    "import pandas as pd\n",
    "import numpy as np\n",
    "\n",
    "import matplotlib.pyplot as plt"
   ]
  },
  {
   "cell_type": "code",
   "execution_count": 2,
   "metadata": {},
   "outputs": [
    {
     "data": {
      "text/html": [
       "<div>\n",
       "<style scoped>\n",
       "    .dataframe tbody tr th:only-of-type {\n",
       "        vertical-align: middle;\n",
       "    }\n",
       "\n",
       "    .dataframe tbody tr th {\n",
       "        vertical-align: top;\n",
       "    }\n",
       "\n",
       "    .dataframe thead th {\n",
       "        text-align: right;\n",
       "    }\n",
       "</style>\n",
       "<table border=\"1\" class=\"dataframe\">\n",
       "  <thead>\n",
       "    <tr style=\"text-align: right;\">\n",
       "      <th></th>\n",
       "      <th>pregnant</th>\n",
       "      <th>glucose</th>\n",
       "      <th>diastolic</th>\n",
       "      <th>triceps</th>\n",
       "      <th>insulin</th>\n",
       "      <th>bmi</th>\n",
       "      <th>diabetes</th>\n",
       "      <th>age</th>\n",
       "      <th>test</th>\n",
       "    </tr>\n",
       "  </thead>\n",
       "  <tbody>\n",
       "    <tr>\n",
       "      <th>0</th>\n",
       "      <td>-0.717427</td>\n",
       "      <td>-1.091046</td>\n",
       "      <td>-0.373655</td>\n",
       "      <td>-0.585110</td>\n",
       "      <td>-0.522842</td>\n",
       "      <td>-0.710421</td>\n",
       "      <td>-1.031876</td>\n",
       "      <td>-0.968299</td>\n",
       "      <td>0</td>\n",
       "    </tr>\n",
       "    <tr>\n",
       "      <th>1</th>\n",
       "      <td>-1.029213</td>\n",
       "      <td>0.466314</td>\n",
       "      <td>-2.456964</td>\n",
       "      <td>0.557421</td>\n",
       "      <td>0.100631</td>\n",
       "      <td>1.426730</td>\n",
       "      <td>5.115111</td>\n",
       "      <td>0.209585</td>\n",
       "      <td>1</td>\n",
       "    </tr>\n",
       "    <tr>\n",
       "      <th>2</th>\n",
       "      <td>-0.093854</td>\n",
       "      <td>-1.447941</td>\n",
       "      <td>-1.655691</td>\n",
       "      <td>0.271788</td>\n",
       "      <td>-0.573394</td>\n",
       "      <td>-0.297238</td>\n",
       "      <td>-0.797126</td>\n",
       "      <td>-0.477514</td>\n",
       "      <td>1</td>\n",
       "    </tr>\n",
       "    <tr>\n",
       "      <th>3</th>\n",
       "      <td>-0.405640</td>\n",
       "      <td>2.413014</td>\n",
       "      <td>-0.053146</td>\n",
       "      <td>1.509530</td>\n",
       "      <td>3.260122</td>\n",
       "      <td>-0.368477</td>\n",
       "      <td>-1.057960</td>\n",
       "      <td>2.172726</td>\n",
       "      <td>1</td>\n",
       "    </tr>\n",
       "    <tr>\n",
       "      <th>4</th>\n",
       "      <td>-0.717427</td>\n",
       "      <td>2.153454</td>\n",
       "      <td>-0.854419</td>\n",
       "      <td>-0.585110</td>\n",
       "      <td>5.812990</td>\n",
       "      <td>-0.425468</td>\n",
       "      <td>-0.362402</td>\n",
       "      <td>2.761668</td>\n",
       "      <td>1</td>\n",
       "    </tr>\n",
       "    <tr>\n",
       "      <th>5</th>\n",
       "      <td>0.529718</td>\n",
       "      <td>1.407219</td>\n",
       "      <td>0.107109</td>\n",
       "      <td>-0.965953</td>\n",
       "      <td>0.159608</td>\n",
       "      <td>-1.038117</td>\n",
       "      <td>0.185349</td>\n",
       "      <td>1.976412</td>\n",
       "      <td>1</td>\n",
       "    </tr>\n",
       "    <tr>\n",
       "      <th>6</th>\n",
       "      <td>-1.029213</td>\n",
       "      <td>-0.150141</td>\n",
       "      <td>1.068636</td>\n",
       "      <td>1.699951</td>\n",
       "      <td>0.623000</td>\n",
       "      <td>1.811417</td>\n",
       "      <td>0.081015</td>\n",
       "      <td>0.013271</td>\n",
       "      <td>1</td>\n",
       "    </tr>\n",
       "    <tr>\n",
       "      <th>7</th>\n",
       "      <td>-0.717427</td>\n",
       "      <td>-0.636816</td>\n",
       "      <td>-3.258237</td>\n",
       "      <td>0.843053</td>\n",
       "      <td>-0.615520</td>\n",
       "      <td>1.455225</td>\n",
       "      <td>-0.985506</td>\n",
       "      <td>0.209585</td>\n",
       "      <td>0</td>\n",
       "    </tr>\n",
       "    <tr>\n",
       "      <th>8</th>\n",
       "      <td>-0.717427</td>\n",
       "      <td>-0.247476</td>\n",
       "      <td>-0.053146</td>\n",
       "      <td>0.081366</td>\n",
       "      <td>-0.505991</td>\n",
       "      <td>0.215678</td>\n",
       "      <td>0.017256</td>\n",
       "      <td>0.111428</td>\n",
       "      <td>1</td>\n",
       "    </tr>\n",
       "    <tr>\n",
       "      <th>9</th>\n",
       "      <td>-0.093854</td>\n",
       "      <td>0.109419</td>\n",
       "      <td>1.389146</td>\n",
       "      <td>1.128686</td>\n",
       "      <td>0.665127</td>\n",
       "      <td>0.885318</td>\n",
       "      <td>0.524433</td>\n",
       "      <td>-0.379357</td>\n",
       "      <td>0</td>\n",
       "    </tr>\n",
       "  </tbody>\n",
       "</table>\n",
       "</div>"
      ],
      "text/plain": [
       "   pregnant   glucose  diastolic   triceps   insulin       bmi  diabetes  \\\n",
       "0 -0.717427 -1.091046  -0.373655 -0.585110 -0.522842 -0.710421 -1.031876   \n",
       "1 -1.029213  0.466314  -2.456964  0.557421  0.100631  1.426730  5.115111   \n",
       "2 -0.093854 -1.447941  -1.655691  0.271788 -0.573394 -0.297238 -0.797126   \n",
       "3 -0.405640  2.413014  -0.053146  1.509530  3.260122 -0.368477 -1.057960   \n",
       "4 -0.717427  2.153454  -0.854419 -0.585110  5.812990 -0.425468 -0.362402   \n",
       "5  0.529718  1.407219   0.107109 -0.965953  0.159608 -1.038117  0.185349   \n",
       "6 -1.029213 -0.150141   1.068636  1.699951  0.623000  1.811417  0.081015   \n",
       "7 -0.717427 -0.636816  -3.258237  0.843053 -0.615520  1.455225 -0.985506   \n",
       "8 -0.717427 -0.247476  -0.053146  0.081366 -0.505991  0.215678  0.017256   \n",
       "9 -0.093854  0.109419   1.389146  1.128686  0.665127  0.885318  0.524433   \n",
       "\n",
       "        age  test  \n",
       "0 -0.968299     0  \n",
       "1  0.209585     1  \n",
       "2 -0.477514     1  \n",
       "3  2.172726     1  \n",
       "4  2.761668     1  \n",
       "5  1.976412     1  \n",
       "6  0.013271     1  \n",
       "7  0.209585     0  \n",
       "8  0.111428     1  \n",
       "9 -0.379357     0  "
      ]
     },
     "execution_count": 2,
     "metadata": {},
     "output_type": "execute_result"
    }
   ],
   "source": [
    "diabetes_data = pd.read_csv('datasets/PimaIndians_processed.csv')\n",
    "\n",
    "diabetes_data.head(10)"
   ]
  },
  {
   "cell_type": "code",
   "execution_count": 3,
   "metadata": {},
   "outputs": [
    {
     "data": {
      "text/plain": [
       "['pregnant',\n",
       " 'glucose',\n",
       " 'diastolic',\n",
       " 'triceps',\n",
       " 'insulin',\n",
       " 'bmi',\n",
       " 'diabetes',\n",
       " 'age']"
      ]
     },
     "execution_count": 3,
     "metadata": {},
     "output_type": "execute_result"
    }
   ],
   "source": [
    "FEATURES = list(diabetes_data.columns[:-1])\n",
    "\n",
    "FEATURES"
   ]
  },
  {
   "cell_type": "markdown",
   "metadata": {},
   "source": [
    "### Apply PCA\n",
    "* PCA: Linear dimensionality reduction using Singular Value Decomposition of the data to project it to a lower dimensional space.\n",
    "* explained_variance_ : The amount of variance explained by each of the selected components.\n",
    "* components_ : Principal axes in feature space, representing the directions of maximum variance in the data.\n",
    "* fit_transform : Fit the model with X and apply the dimensionality reduction on X\n",
    "\n",
    "https://scikit-learn.org/stable/modules/generated/sklearn.decomposition.PCA.html"
   ]
  },
  {
   "cell_type": "code",
   "execution_count": 7,
   "metadata": {},
   "outputs": [],
   "source": [
    "from sklearn.decomposition import PCA\n",
    "\n",
    "def apply_pca(n):\n",
    "    \n",
    "    pca = PCA(n_components = n) \n",
    "    x_new = pca.fit_transform(diabetes_data[FEATURES])\n",
    "        \n",
    "    return pca, pd.DataFrame(x_new)"
   ]
  },
  {
   "cell_type": "code",
   "execution_count": 8,
   "metadata": {},
   "outputs": [],
   "source": [
    "pca_obj, _ = apply_pca(8)"
   ]
  },
  {
   "cell_type": "code",
   "execution_count": 9,
   "metadata": {},
   "outputs": [
    {
     "name": "stdout",
     "output_type": "stream",
     "text": [
      "Explained Variance: [0.31994031 0.19459756 0.14984544 0.11946188 0.09002175 0.05017765\n",
      " 0.03888422 0.03707119]\n"
     ]
    }
   ],
   "source": [
    "print(\"Explained Variance:\", pca_obj.explained_variance_ratio_)"
   ]
  },
  {
   "cell_type": "code",
   "execution_count": 10,
   "metadata": {},
   "outputs": [
    {
     "data": {
      "text/plain": [
       "0.9999999999999999"
      ]
     },
     "execution_count": 10,
     "metadata": {},
     "output_type": "execute_result"
    }
   ],
   "source": [
    "sum(pca_obj.explained_variance_ratio_)"
   ]
  },
  {
   "cell_type": "code",
   "execution_count": 11,
   "metadata": {},
   "outputs": [
    {
     "data": {
      "image/png": "[encoded data removed]",
      "text/plain": [
       "<Figure size 576x576 with 1 Axes>"
      ]
     },
     "metadata": {
      "needs_background": "light"
     },
     "output_type": "display_data"
    }
   ],
   "source": [
    "plt.figure(figsize = (8, 8))\n",
    "\n",
    "plt.plot(np.cumsum(pca_obj.explained_variance_ratio_))\n",
    "\n",
    "plt.xlabel('n components')\n",
    "plt.ylabel('cumulative variance');"
   ]
  },
  {
   "cell_type": "code",
   "execution_count": 12,
   "metadata": {},
   "outputs": [],
   "source": [
    "Y = diabetes_data['test']"
   ]
  },
  {
   "cell_type": "code",
   "execution_count": 22,
   "metadata": {},
   "outputs": [],
   "source": [
    "_ , X_new = apply_pca(8)"
   ]
  },
  {
   "cell_type": "code",
   "execution_count": 23,
   "metadata": {},
   "outputs": [
    {
     "data": {
      "text/html": [
       "<div>\n",
       "<style scoped>\n",
       "    .dataframe tbody tr th:only-of-type {\n",
       "        vertical-align: middle;\n",
       "    }\n",
       "\n",
       "    .dataframe tbody tr th {\n",
       "        vertical-align: top;\n",
       "    }\n",
       "\n",
       "    .dataframe thead th {\n",
       "        text-align: right;\n",
       "    }\n",
       "</style>\n",
       "<table border=\"1\" class=\"dataframe\">\n",
       "  <thead>\n",
       "    <tr style=\"text-align: right;\">\n",
       "      <th></th>\n",
       "      <th>0</th>\n",
       "      <th>1</th>\n",
       "      <th>2</th>\n",
       "      <th>3</th>\n",
       "      <th>4</th>\n",
       "      <th>5</th>\n",
       "      <th>6</th>\n",
       "      <th>7</th>\n",
       "    </tr>\n",
       "  </thead>\n",
       "  <tbody>\n",
       "    <tr>\n",
       "      <th>100</th>\n",
       "      <td>-1.564838</td>\n",
       "      <td>0.671199</td>\n",
       "      <td>-0.384021</td>\n",
       "      <td>-0.377512</td>\n",
       "      <td>0.330458</td>\n",
       "      <td>0.090439</td>\n",
       "      <td>0.129147</td>\n",
       "      <td>-0.032552</td>\n",
       "    </tr>\n",
       "    <tr>\n",
       "      <th>372</th>\n",
       "      <td>1.001349</td>\n",
       "      <td>-0.554330</td>\n",
       "      <td>-1.507576</td>\n",
       "      <td>-0.638703</td>\n",
       "      <td>-0.267339</td>\n",
       "      <td>0.100334</td>\n",
       "      <td>0.470750</td>\n",
       "      <td>0.521861</td>\n",
       "    </tr>\n",
       "    <tr>\n",
       "      <th>104</th>\n",
       "      <td>0.000062</td>\n",
       "      <td>0.664995</td>\n",
       "      <td>-0.565911</td>\n",
       "      <td>0.452366</td>\n",
       "      <td>1.111325</td>\n",
       "      <td>0.023433</td>\n",
       "      <td>-0.227000</td>\n",
       "      <td>-0.714987</td>\n",
       "    </tr>\n",
       "    <tr>\n",
       "      <th>15</th>\n",
       "      <td>-2.732329</td>\n",
       "      <td>-0.956404</td>\n",
       "      <td>0.122499</td>\n",
       "      <td>-0.114360</td>\n",
       "      <td>0.138169</td>\n",
       "      <td>0.197722</td>\n",
       "      <td>0.455268</td>\n",
       "      <td>-0.228969</td>\n",
       "    </tr>\n",
       "    <tr>\n",
       "      <th>2</th>\n",
       "      <td>-1.734034</td>\n",
       "      <td>0.171954</td>\n",
       "      <td>-0.505743</td>\n",
       "      <td>0.248924</td>\n",
       "      <td>1.628413</td>\n",
       "      <td>0.399817</td>\n",
       "      <td>-0.186551</td>\n",
       "      <td>0.022830</td>\n",
       "    </tr>\n",
       "    <tr>\n",
       "      <th>226</th>\n",
       "      <td>-1.849690</td>\n",
       "      <td>-0.648225</td>\n",
       "      <td>0.256446</td>\n",
       "      <td>0.354021</td>\n",
       "      <td>-1.228612</td>\n",
       "      <td>0.102352</td>\n",
       "      <td>0.139580</td>\n",
       "      <td>0.382493</td>\n",
       "    </tr>\n",
       "    <tr>\n",
       "      <th>338</th>\n",
       "      <td>-1.877447</td>\n",
       "      <td>-0.116912</td>\n",
       "      <td>-0.097469</td>\n",
       "      <td>-0.404460</td>\n",
       "      <td>0.994486</td>\n",
       "      <td>-0.258530</td>\n",
       "      <td>-1.375029</td>\n",
       "      <td>-0.359846</td>\n",
       "    </tr>\n",
       "    <tr>\n",
       "      <th>48</th>\n",
       "      <td>-1.530388</td>\n",
       "      <td>0.397260</td>\n",
       "      <td>-1.037458</td>\n",
       "      <td>0.342512</td>\n",
       "      <td>0.997196</td>\n",
       "      <td>0.009523</td>\n",
       "      <td>0.201960</td>\n",
       "      <td>-0.043798</td>\n",
       "    </tr>\n",
       "    <tr>\n",
       "      <th>60</th>\n",
       "      <td>0.318001</td>\n",
       "      <td>-0.238284</td>\n",
       "      <td>-0.625016</td>\n",
       "      <td>-0.706847</td>\n",
       "      <td>-1.175256</td>\n",
       "      <td>0.238899</td>\n",
       "      <td>0.070896</td>\n",
       "      <td>1.095716</td>\n",
       "    </tr>\n",
       "    <tr>\n",
       "      <th>199</th>\n",
       "      <td>-0.188285</td>\n",
       "      <td>-0.182985</td>\n",
       "      <td>0.006922</td>\n",
       "      <td>0.035386</td>\n",
       "      <td>0.366241</td>\n",
       "      <td>0.671162</td>\n",
       "      <td>-0.338710</td>\n",
       "      <td>1.344721</td>\n",
       "    </tr>\n",
       "  </tbody>\n",
       "</table>\n",
       "</div>"
      ],
      "text/plain": [
       "            0         1         2         3         4         5         6  \\\n",
       "100 -1.564838  0.671199 -0.384021 -0.377512  0.330458  0.090439  0.129147   \n",
       "372  1.001349 -0.554330 -1.507576 -0.638703 -0.267339  0.100334  0.470750   \n",
       "104  0.000062  0.664995 -0.565911  0.452366  1.111325  0.023433 -0.227000   \n",
       "15  -2.732329 -0.956404  0.122499 -0.114360  0.138169  0.197722  0.455268   \n",
       "2   -1.734034  0.171954 -0.505743  0.248924  1.628413  0.399817 -0.186551   \n",
       "226 -1.849690 -0.648225  0.256446  0.354021 -1.228612  0.102352  0.139580   \n",
       "338 -1.877447 -0.116912 -0.097469 -0.404460  0.994486 -0.258530 -1.375029   \n",
       "48  -1.530388  0.397260 -1.037458  0.342512  0.997196  0.009523  0.201960   \n",
       "60   0.318001 -0.238284 -0.625016 -0.706847 -1.175256  0.238899  0.070896   \n",
       "199 -0.188285 -0.182985  0.006922  0.035386  0.366241  0.671162 -0.338710   \n",
       "\n",
       "            7  \n",
       "100 -0.032552  \n",
       "372  0.521861  \n",
       "104 -0.714987  \n",
       "15  -0.228969  \n",
       "2    0.022830  \n",
       "226  0.382493  \n",
       "338 -0.359846  \n",
       "48  -0.043798  \n",
       "60   1.095716  \n",
       "199  1.344721  "
      ]
     },
     "execution_count": 23,
     "metadata": {},
     "output_type": "execute_result"
    }
   ],
   "source": [
    "X_new.sample(10)"
   ]
  },
  {
   "cell_type": "code",
   "execution_count": 24,
   "metadata": {},
   "outputs": [],
   "source": [
    "from sklearn.model_selection import train_test_split\n",
    "\n",
    "x_train, x_test, y_train, y_test = train_test_split(X_new, Y, test_size=0.2)"
   ]
  },
  {
   "cell_type": "code",
   "execution_count": 25,
   "metadata": {},
   "outputs": [],
   "source": [
    "from sklearn.linear_model import LogisticRegression\n",
    "\n",
    "model = LogisticRegression(solver='liblinear').fit(x_train, y_train)"
   ]
  },
  {
   "cell_type": "code",
   "execution_count": 26,
   "metadata": {},
   "outputs": [],
   "source": [
    "y_pred = model.predict(x_test)"
   ]
  },
  {
   "cell_type": "code",
   "execution_count": 27,
   "metadata": {},
   "outputs": [],
   "source": [
    "from sklearn.metrics import accuracy_score, recall_score, precision_score"
   ]
  },
  {
   "cell_type": "code",
   "execution_count": 28,
   "metadata": {},
   "outputs": [
    {
     "data": {
      "text/plain": [
       "0.810126582278481"
      ]
     },
     "execution_count": 28,
     "metadata": {},
     "output_type": "execute_result"
    }
   ],
   "source": [
    "accuracy_score(y_test, y_pred)"
   ]
  },
  {
   "cell_type": "code",
   "execution_count": 29,
   "metadata": {},
   "outputs": [
    {
     "data": {
      "text/plain": [
       "0.7692307692307693"
      ]
     },
     "execution_count": 29,
     "metadata": {},
     "output_type": "execute_result"
    }
   ],
   "source": [
    "precision_score(y_test, y_pred)"
   ]
  },
  {
   "cell_type": "code",
   "execution_count": 30,
   "metadata": {},
   "outputs": [
    {
     "data": {
      "text/plain": [
       "0.6896551724137931"
      ]
     },
     "execution_count": 30,
     "metadata": {},
     "output_type": "execute_result"
    }
   ],
   "source": [
    "recall_score(y_test, y_pred)"
   ]
  },
  {
   "cell_type": "code",
   "execution_count": 31,
   "metadata": {},
   "outputs": [],
   "source": [
    "_ , X_new = apply_pca(4)"
   ]
  },
  {
   "cell_type": "code",
   "execution_count": 32,
   "metadata": {},
   "outputs": [
    {
     "data": {
      "text/html": [
       "<div>\n",
       "<style scoped>\n",
       "    .dataframe tbody tr th:only-of-type {\n",
       "        vertical-align: middle;\n",
       "    }\n",
       "\n",
       "    .dataframe tbody tr th {\n",
       "        vertical-align: top;\n",
       "    }\n",
       "\n",
       "    .dataframe thead th {\n",
       "        text-align: right;\n",
       "    }\n",
       "</style>\n",
       "<table border=\"1\" class=\"dataframe\">\n",
       "  <thead>\n",
       "    <tr style=\"text-align: right;\">\n",
       "      <th></th>\n",
       "      <th>0</th>\n",
       "      <th>1</th>\n",
       "      <th>2</th>\n",
       "      <th>3</th>\n",
       "    </tr>\n",
       "  </thead>\n",
       "  <tbody>\n",
       "    <tr>\n",
       "      <th>318</th>\n",
       "      <td>-3.257839</td>\n",
       "      <td>-1.097613</td>\n",
       "      <td>-0.338189</td>\n",
       "      <td>-0.013154</td>\n",
       "    </tr>\n",
       "    <tr>\n",
       "      <th>137</th>\n",
       "      <td>-2.386167</td>\n",
       "      <td>-1.337533</td>\n",
       "      <td>0.196566</td>\n",
       "      <td>0.258238</td>\n",
       "    </tr>\n",
       "    <tr>\n",
       "      <th>250</th>\n",
       "      <td>3.109963</td>\n",
       "      <td>0.689746</td>\n",
       "      <td>0.888182</td>\n",
       "      <td>0.951787</td>\n",
       "    </tr>\n",
       "    <tr>\n",
       "      <th>313</th>\n",
       "      <td>-2.103897</td>\n",
       "      <td>-0.680219</td>\n",
       "      <td>0.979119</td>\n",
       "      <td>-1.060121</td>\n",
       "    </tr>\n",
       "    <tr>\n",
       "      <th>249</th>\n",
       "      <td>1.205638</td>\n",
       "      <td>2.059321</td>\n",
       "      <td>1.772163</td>\n",
       "      <td>-0.797662</td>\n",
       "    </tr>\n",
       "    <tr>\n",
       "      <th>254</th>\n",
       "      <td>1.830118</td>\n",
       "      <td>-2.499328</td>\n",
       "      <td>0.461693</td>\n",
       "      <td>-0.710026</td>\n",
       "    </tr>\n",
       "    <tr>\n",
       "      <th>360</th>\n",
       "      <td>-0.006946</td>\n",
       "      <td>0.560301</td>\n",
       "      <td>0.113017</td>\n",
       "      <td>-0.504967</td>\n",
       "    </tr>\n",
       "    <tr>\n",
       "      <th>183</th>\n",
       "      <td>1.069368</td>\n",
       "      <td>-0.591353</td>\n",
       "      <td>-1.078032</td>\n",
       "      <td>-1.454069</td>\n",
       "    </tr>\n",
       "    <tr>\n",
       "      <th>271</th>\n",
       "      <td>-1.414223</td>\n",
       "      <td>0.068825</td>\n",
       "      <td>0.854825</td>\n",
       "      <td>0.553973</td>\n",
       "    </tr>\n",
       "    <tr>\n",
       "      <th>224</th>\n",
       "      <td>-0.787441</td>\n",
       "      <td>-0.030685</td>\n",
       "      <td>-0.182204</td>\n",
       "      <td>-0.517953</td>\n",
       "    </tr>\n",
       "  </tbody>\n",
       "</table>\n",
       "</div>"
      ],
      "text/plain": [
       "            0         1         2         3\n",
       "318 -3.257839 -1.097613 -0.338189 -0.013154\n",
       "137 -2.386167 -1.337533  0.196566  0.258238\n",
       "250  3.109963  0.689746  0.888182  0.951787\n",
       "313 -2.103897 -0.680219  0.979119 -1.060121\n",
       "249  1.205638  2.059321  1.772163 -0.797662\n",
       "254  1.830118 -2.499328  0.461693 -0.710026\n",
       "360 -0.006946  0.560301  0.113017 -0.504967\n",
       "183  1.069368 -0.591353 -1.078032 -1.454069\n",
       "271 -1.414223  0.068825  0.854825  0.553973\n",
       "224 -0.787441 -0.030685 -0.182204 -0.517953"
      ]
     },
     "execution_count": 32,
     "metadata": {},
     "output_type": "execute_result"
    }
   ],
   "source": [
    "X_new.sample(10)"
   ]
  },
  {
   "cell_type": "code",
   "execution_count": 33,
   "metadata": {},
   "outputs": [],
   "source": [
    "from sklearn.model_selection import train_test_split\n",
    "\n",
    "x_train, x_test, y_train, y_test = train_test_split(X_new, Y, test_size=0.2)"
   ]
  },
  {
   "cell_type": "code",
   "execution_count": 34,
   "metadata": {},
   "outputs": [],
   "source": [
    "from sklearn.linear_model import LogisticRegression\n",
    "\n",
    "model = LogisticRegression(solver='liblinear').fit(x_train, y_train)"
   ]
  },
  {
   "cell_type": "code",
   "execution_count": 35,
   "metadata": {},
   "outputs": [],
   "source": [
    "y_pred = model.predict(x_test)"
   ]
  },
  {
   "cell_type": "code",
   "execution_count": 36,
   "metadata": {},
   "outputs": [],
   "source": [
    "from sklearn.metrics import accuracy_score, recall_score, precision_score"
   ]
  },
  {
   "cell_type": "code",
   "execution_count": 37,
   "metadata": {},
   "outputs": [
    {
     "data": {
      "text/plain": [
       "0.810126582278481"
      ]
     },
     "execution_count": 37,
     "metadata": {},
     "output_type": "execute_result"
    }
   ],
   "source": [
    "accuracy_score(y_test, y_pred)"
   ]
  },
  {
   "cell_type": "code",
   "execution_count": 38,
   "metadata": {},
   "outputs": [
    {
     "data": {
      "text/plain": [
       "0.7857142857142857"
      ]
     },
     "execution_count": 38,
     "metadata": {},
     "output_type": "execute_result"
    }
   ],
   "source": [
    "precision_score(y_test, y_pred)"
   ]
  },
  {
   "cell_type": "code",
   "execution_count": 39,
   "metadata": {},
   "outputs": [
    {
     "data": {
      "text/plain": [
       "0.4782608695652174"
      ]
     },
     "execution_count": 39,
     "metadata": {},
     "output_type": "execute_result"
    }
   ],
   "source": [
    "recall_score(y_test, y_pred)"
   ]
  },
  {
   "cell_type": "code",
   "execution_count": null,
   "metadata": {},
   "outputs": [],
   "source": []
  },
  {
   "cell_type": "code",
   "execution_count": null,
   "metadata": {},
   "outputs": [],
   "source": []
  },
  {
   "cell_type": "code",
   "execution_count": null,
   "metadata": {},
   "outputs": [],
   "source": []
  },
  {
   "cell_type": "code",
   "execution_count": null,
   "metadata": {},
   "outputs": [],
   "source": []
  },
  {
   "cell_type": "code",
   "execution_count": null,
   "metadata": {},
   "outputs": [],
   "source": []
  },
  {
   "cell_type": "code",
   "execution_count": null,
   "metadata": {},
   "outputs": [],
   "source": []
  },
  {
   "cell_type": "code",
   "execution_count": null,
   "metadata": {},
   "outputs": [],
   "source": []
  },
  {
   "cell_type": "code",
   "execution_count": null,
   "metadata": {},
   "outputs": [],
   "source": []
  },
  {
   "cell_type": "code",
   "execution_count": null,
   "metadata": {},
   "outputs": [],
   "source": []
  },
  {
   "cell_type": "code",
   "execution_count": null,
   "metadata": {},
   "outputs": [],
   "source": []
  },
  {
   "cell_type": "code",
   "execution_count": null,
   "metadata": {},
   "outputs": [],
   "source": []
  },
  {
   "cell_type": "code",
   "execution_count": null,
   "metadata": {},
   "outputs": [],
   "source": []
  },
  {
   "cell_type": "code",
   "execution_count": null,
   "metadata": {},
   "outputs": [],
   "source": []
  }
 ],
 "metadata": {
  "kernelspec": {
   "display_name": "Python 3",
   "language": "python",
   "name": "python3"
  },
  "language_info": {
   "codemirror_mode": {
    "name": "ipython",
    "version": 3
   },
   "file_extension": ".py",
   "mimetype": "text/x-python",
   "name": "python",
   "nbconvert_exporter": "python",
   "pygments_lexer": "ipython3",
   "version": "3.8.5"
  }
 },
 "nbformat": 4,
 "nbformat_minor": 2
}
