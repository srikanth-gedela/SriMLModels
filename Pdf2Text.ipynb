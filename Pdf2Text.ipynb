{
  "nbformat": 4,
  "nbformat_minor": 0,
  "metadata": {
    "colab": {
      "provenance": [],
      "authorship_tag": "ABX9TyON1mufXb3JOkyIop5TQ60I",
      "include_colab_link": true
    },
    "kernelspec": {
      "name": "python3",
      "display_name": "Python 3"
    },
    "language_info": {
      "name": "python"
    }
  },
  "cells": [
    {
      "cell_type": "markdown",
      "metadata": {
        "id": "view-in-github",
        "colab_type": "text"
      },
      "source": [
        "<a href=\"https://colab.research.google.com/github/srikanth-gedela/SriMLModels/blob/main/Pdf2Text.ipynb\" target=\"_parent\"><img src=\"https://colab.research.google.com/assets/colab-badge.svg\" alt=\"Open In Colab\"/></a>"
      ]
    },
    {
      "cell_type": "code",
      "source": [
        "!pip install pytesseract;\n",
        "!pip install PyPDF2;\n",
        "!pip install wand;"
      ],
      "metadata": {
        "colab": {
          "base_uri": "https://localhost:8080/"
        },
        "id": "Js7DhORBsDg7",
        "outputId": "6fb59fbd-457c-4222-97c4-57072f798c33"
      },
      "execution_count": null,
      "outputs": [
        {
          "output_type": "stream",
          "name": "stdout",
          "text": [
            "Looking in indexes: https://pypi.org/simple, https://us-python.pkg.dev/colab-wheels/public/simple/\n",
            "Requirement already satisfied: pytesseract in /usr/local/lib/python3.8/dist-packages (0.3.10)\n",
            "Requirement already satisfied: packaging>=21.3 in /usr/local/lib/python3.8/dist-packages (from pytesseract) (23.0)\n",
            "Requirement already satisfied: Pillow>=8.0.0 in /usr/local/lib/python3.8/dist-packages (from pytesseract) (9.4.0)\n",
            "Looking in indexes: https://pypi.org/simple, https://us-python.pkg.dev/colab-wheels/public/simple/\n",
            "Requirement already satisfied: PyPDF2 in /usr/local/lib/python3.8/dist-packages (3.0.1)\n",
            "Requirement already satisfied: typing_extensions>=3.10.0.0 in /usr/local/lib/python3.8/dist-packages (from PyPDF2) (4.5.0)\n",
            "Looking in indexes: https://pypi.org/simple, https://us-python.pkg.dev/colab-wheels/public/simple/\n",
            "Requirement already satisfied: wand in /usr/local/lib/python3.8/dist-packages (0.6.11)\n"
          ]
        }
      ]
    },
    {
      "cell_type": "code",
      "source": [
        "!apt-get install libmagickwand-dev\n",
        "!apt-get install libjpeg-dev"
      ],
      "metadata": {
        "colab": {
          "base_uri": "https://localhost:8080/"
        },
        "id": "Gs2FyTmCv71d",
        "outputId": "df189947-5070-4496-b19d-71f6a167a4b6"
      },
      "execution_count": null,
      "outputs": [
        {
          "output_type": "stream",
          "name": "stdout",
          "text": [
            "Reading package lists... Done\n",
            "Building dependency tree       \n",
            "Reading state information... Done\n",
            "libmagickwand-dev is already the newest version (8:6.9.10.23+dfsg-2.1ubuntu11.4).\n",
            "0 upgraded, 0 newly installed, 0 to remove and 19 not upgraded.\n",
            "Reading package lists... Done\n",
            "Building dependency tree       \n",
            "Reading state information... Done\n",
            "libjpeg-dev is already the newest version (8c-2ubuntu8).\n",
            "libjpeg-dev set to manually installed.\n",
            "0 upgraded, 0 newly installed, 0 to remove and 19 not upgraded.\n"
          ]
        }
      ]
    },
    {
      "cell_type": "code",
      "execution_count": null,
      "metadata": {
        "id": "LLimDWHNrHp8"
      },
      "outputs": [],
      "source": [
        "import PyPDF2\n",
        "import pytesseract\n",
        "import wand\n",
        "from PIL import Image\n",
        "from wand.image import Image as WandImage\n",
        "import io\n",
        "from wand.exceptions import MissingDelegateError\n",
        "\n"
      ]
    },
    {
      "cell_type": "code",
      "source": [
        "\n",
        "# Function to convert PDF to text\n",
        "def pdf_to_text(file_path, start_page=None, end_page=None):\n",
        "    # Open the PDF file\n",
        "    pdf_file = open(file_path, 'rb')\n",
        "\n",
        "    # Create a PDF reader object\n",
        "    pdf_reader = PyPDF2.PdfReader(pdf_file)\n",
        "\n",
        "    # If start and end page numbers are not provided, convert all pages\n",
        "    if start_page is None:\n",
        "        start_page = 0\n",
        "    if end_page is None:\n",
        "        end_page = pdf_reader.numPages\n",
        "\n",
        "    # Create an empty string to store the text\n",
        "    text = \"\"\n",
        "\n",
        "    # Loop through the pages and extract the text\n",
        "    for page_num in range(start_page, end_page):\n",
        "        page = pdf_reader.pages[page_num] \n",
        "\n",
        "        # Check if the page is empty\n",
        "        if page['/Contents'] is None:\n",
        "            continue\n",
        "\n",
        "        # Check if the page is searchable or requires OCR\n",
        "        if page.extract_text():\n",
        "            text += page.extract_text()\n",
        "        else:\n",
        "            # Convert the page to an image and perform OCR\n",
        "            with io.BytesIO() as byte_stream:\n",
        "                try:\n",
        "                    with WandImage(file=pdf_file, resolution=300) as wand_image:\n",
        "                        wand_image.compression_quality = 99\n",
        "                        wand_image.format = 'jpeg'\n",
        "                        wand_image.background_color = 'white'\n",
        "                        wand_image.alpha_channel = 'remove'\n",
        "                        wand_image.save(byte_stream)\n",
        "                    byte_stream.seek(0)\n",
        "                    text += pytesseract.image_to_string(byte_stream, lang='eng')\n",
        "                except MissingDelegateError as e:\n",
        "                    print(f\"Failed to convert page {page_num}: {str(e)}\")\n",
        "\n",
        "    # Close the PDF file\n",
        "    pdf_file.close()\n",
        "\n",
        "    return text\n",
        "\n"
      ],
      "metadata": {
        "id": "VK0rcL-lr9Ut"
      },
      "execution_count": null,
      "outputs": []
    },
    {
      "cell_type": "code",
      "source": [
        "\n",
        "# Function to split text into multiple files\n",
        "def split_text(text, max_words_per_file=20000):\n",
        "    # Split the text into a list of words\n",
        "    words = text.split()\n",
        "\n",
        "    # Create an empty list to store the file names\n",
        "    file_names = []\n",
        "\n",
        "    # Loop through the words and create a new file every max_words_per_file words\n",
        "    for i in range(0, len(words), max_words_per_file):\n",
        "        file_name = f\"output_{i//max_words_per_file}.txt\"\n",
        "        file_names.append(file_name)\n",
        "        with open(file_name, 'w') as file:\n",
        "            file.write(' '.join(words[i:i+max_words_per_file]))\n",
        "\n",
        "    return file_names\n",
        "\n"
      ],
      "metadata": {
        "id": "0_hcDKiFr_jk"
      },
      "execution_count": null,
      "outputs": []
    },
    {
      "cell_type": "code",
      "source": [
        "\n",
        "# Example usage\n",
        "file_path = \"input.pdf\"\n",
        "start_page = 17\n",
        "end_page = 173\n",
        "max_words_per_file = 20000\n",
        "\n",
        "text = pdf_to_text(file_path, start_page, end_page)\n",
        "file_names = split_text(text)\n",
        "\n",
        "print(f\"Input file converted to {len(file_names)} output files of {max_words_per_file} words each.\")"
      ],
      "metadata": {
        "colab": {
          "base_uri": "https://localhost:8080/"
        },
        "id": "a5iuT8LGsAwX",
        "outputId": "a2b7e385-6320-4487-afb1-c236a8944707"
      },
      "execution_count": null,
      "outputs": [
        {
          "output_type": "stream",
          "name": "stdout",
          "text": [
            "Failed to convert page 25: no decode delegate for this image format `' @ error/blob.c/BlobToImage/361\n",
            "Failed to convert page 53: no decode delegate for this image format `' @ error/blob.c/BlobToImage/361\n",
            "Failed to convert page 117: no decode delegate for this image format `' @ error/blob.c/BlobToImage/361\n",
            "Failed to convert page 139: no decode delegate for this image format `' @ error/blob.c/BlobToImage/361\n",
            "Failed to convert page 141: no decode delegate for this image format `' @ error/blob.c/BlobToImage/361\n",
            "Failed to convert page 147: no decode delegate for this image format `' @ error/blob.c/BlobToImage/361\n",
            "Failed to convert page 159: no decode delegate for this image format `' @ error/blob.c/BlobToImage/361\n",
            "Failed to convert page 171: no decode delegate for this image format `' @ error/blob.c/BlobToImage/361\n",
            "Input file converted to 3 output files of 20000 words each.\n"
          ]
        }
      ]
    }
  ]
}