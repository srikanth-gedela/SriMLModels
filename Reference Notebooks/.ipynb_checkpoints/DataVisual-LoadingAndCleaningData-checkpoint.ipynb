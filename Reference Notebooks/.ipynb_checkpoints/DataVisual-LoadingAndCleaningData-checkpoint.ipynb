{
 "cells": [
  {
   "cell_type": "markdown",
   "metadata": {},
   "source": [
    "#### Python version"
   ]
  },
  {
   "cell_type": "code",
   "execution_count": 1,
   "metadata": {},
   "outputs": [
    {
     "name": "stdout",
     "output_type": "stream",
     "text": [
      "Python 3.7.4\r\n"
     ]
    }
   ],
   "source": [
    "!python --version"
   ]
  },
  {
   "cell_type": "markdown",
   "metadata": {},
   "source": [
    "#### Installating libraries"
   ]
  },
  {
   "cell_type": "code",
   "execution_count": 2,
   "metadata": {},
   "outputs": [
    {
     "name": "stdout",
     "output_type": "stream",
     "text": [
      "Requirement already satisfied: matplotlib in /anaconda3/lib/python3.7/site-packages (3.1.1)\n",
      "Requirement already satisfied: cycler>=0.10 in /anaconda3/lib/python3.7/site-packages (from matplotlib) (0.10.0)\n",
      "Requirement already satisfied: kiwisolver>=1.0.1 in /anaconda3/lib/python3.7/site-packages (from matplotlib) (1.1.0)\n",
      "Requirement already satisfied: pyparsing!=2.0.4,!=2.1.2,!=2.1.6,>=2.0.1 in /anaconda3/lib/python3.7/site-packages (from matplotlib) (2.4.0)\n",
      "Requirement already satisfied: python-dateutil>=2.1 in /anaconda3/lib/python3.7/site-packages (from matplotlib) (2.8.0)\n",
      "Requirement already satisfied: numpy>=1.11 in /anaconda3/lib/python3.7/site-packages (from matplotlib) (1.16.5)\n",
      "Requirement already satisfied: six in /anaconda3/lib/python3.7/site-packages (from cycler>=0.10->matplotlib) (1.12.0)\n",
      "Requirement already satisfied: setuptools in /anaconda3/lib/python3.7/site-packages (from kiwisolver>=1.0.1->matplotlib) (41.0.1)\n"
     ]
    }
   ],
   "source": [
    "!pip install matplotlib"
   ]
  },
  {
   "cell_type": "code",
   "execution_count": 3,
   "metadata": {},
   "outputs": [
    {
     "name": "stdout",
     "output_type": "stream",
     "text": [
      "Requirement already satisfied: pandas in /anaconda3/lib/python3.7/site-packages (0.25.1)\n",
      "Requirement already satisfied: pytz>=2017.2 in /anaconda3/lib/python3.7/site-packages (from pandas) (2019.1)\n",
      "Requirement already satisfied: numpy>=1.13.3 in /anaconda3/lib/python3.7/site-packages (from pandas) (1.16.5)\n",
      "Requirement already satisfied: python-dateutil>=2.6.1 in /anaconda3/lib/python3.7/site-packages (from pandas) (2.8.0)\n",
      "Requirement already satisfied: six>=1.5 in /anaconda3/lib/python3.7/site-packages (from python-dateutil>=2.6.1->pandas) (1.12.0)\n"
     ]
    }
   ],
   "source": [
    "!pip install pandas"
   ]
  },
  {
   "cell_type": "markdown",
   "metadata": {},
   "source": [
    "#### Version of matplotlib"
   ]
  },
  {
   "cell_type": "code",
   "execution_count": 64,
   "metadata": {},
   "outputs": [],
   "source": [
    "import matplotlib\n",
    "import pandas as pd\n",
    "\n",
    "import matplotlib.pyplot as plt"
   ]
  },
  {
   "cell_type": "code",
   "execution_count": 65,
   "metadata": {},
   "outputs": [
    {
     "data": {
      "text/plain": [
       "'3.1.1'"
      ]
     },
     "execution_count": 65,
     "metadata": {},
     "output_type": "execute_result"
    }
   ],
   "source": [
    "matplotlib.__version__"
   ]
  },
  {
   "cell_type": "code",
   "execution_count": 66,
   "metadata": {},
   "outputs": [
    {
     "data": {
      "text/plain": [
       "'0.25.1'"
      ]
     },
     "execution_count": 66,
     "metadata": {},
     "output_type": "execute_result"
    }
   ],
   "source": [
    "pd.__version__"
   ]
  },
  {
   "cell_type": "markdown",
   "metadata": {},
   "source": [
    "### US Oil and Gas Production June 2008 to June 2018\n",
    "\n",
    "https://www.kaggle.com/djzurawski/us-oil-and-gas-production-june-2008-to-june-2018\n",
    "\n",
    "* Month - Defines the date of crudeoil production (First day of the month)\n",
    "* U.S. Crude Oil - Total amount of production each month for 10 years(2008-2018)\n",
    "* Other columns are the cities which has the crude oil production"
   ]
  },
  {
   "cell_type": "code",
   "execution_count": 80,
   "metadata": {},
   "outputs": [
    {
     "data": {
      "text/html": [
       "<div>\n",
       "<style scoped>\n",
       "    .dataframe tbody tr th:only-of-type {\n",
       "        vertical-align: middle;\n",
       "    }\n",
       "\n",
       "    .dataframe tbody tr th {\n",
       "        vertical-align: top;\n",
       "    }\n",
       "\n",
       "    .dataframe thead th {\n",
       "        text-align: right;\n",
       "    }\n",
       "</style>\n",
       "<table border=\"1\" class=\"dataframe\">\n",
       "  <thead>\n",
       "    <tr style=\"text-align: right;\">\n",
       "      <th></th>\n",
       "      <th>Month</th>\n",
       "      <th>U.S. Crude Oil</th>\n",
       "      <th>Alabama</th>\n",
       "      <th>Alaska</th>\n",
       "      <th>Arkansas</th>\n",
       "      <th>Arizona</th>\n",
       "      <th>California</th>\n",
       "      <th>Colorado</th>\n",
       "      <th>Federal Offshore Gulf of Mexico Crude Oil</th>\n",
       "      <th>Federal Offshore Pacific Crude Oil</th>\n",
       "      <th>...</th>\n",
       "      <th>Ohio</th>\n",
       "      <th>Oklahoma</th>\n",
       "      <th>Pennsylvania</th>\n",
       "      <th>South Dakota</th>\n",
       "      <th>Wyoming</th>\n",
       "      <th>West Virginia</th>\n",
       "      <th>Virginia</th>\n",
       "      <th>Utah</th>\n",
       "      <th>Texas</th>\n",
       "      <th>Tennessee</th>\n",
       "    </tr>\n",
       "  </thead>\n",
       "  <tbody>\n",
       "    <tr>\n",
       "      <td>0</td>\n",
       "      <td>2008-06-01</td>\n",
       "      <td>5138</td>\n",
       "      <td>21</td>\n",
       "      <td>655</td>\n",
       "      <td>17</td>\n",
       "      <td>0</td>\n",
       "      <td>583</td>\n",
       "      <td>82</td>\n",
       "      <td>1326</td>\n",
       "      <td>67</td>\n",
       "      <td>...</td>\n",
       "      <td>14</td>\n",
       "      <td>186</td>\n",
       "      <td>8</td>\n",
       "      <td>5</td>\n",
       "      <td>144</td>\n",
       "      <td>6</td>\n",
       "      <td>0</td>\n",
       "      <td>60</td>\n",
       "      <td>1097</td>\n",
       "      <td>1</td>\n",
       "    </tr>\n",
       "    <tr>\n",
       "      <td>1</td>\n",
       "      <td>2008-07-01</td>\n",
       "      <td>5177</td>\n",
       "      <td>21</td>\n",
       "      <td>640</td>\n",
       "      <td>17</td>\n",
       "      <td>0</td>\n",
       "      <td>586</td>\n",
       "      <td>81</td>\n",
       "      <td>1372</td>\n",
       "      <td>61</td>\n",
       "      <td>...</td>\n",
       "      <td>14</td>\n",
       "      <td>184</td>\n",
       "      <td>8</td>\n",
       "      <td>5</td>\n",
       "      <td>145</td>\n",
       "      <td>5</td>\n",
       "      <td>0</td>\n",
       "      <td>61</td>\n",
       "      <td>1111</td>\n",
       "      <td>1</td>\n",
       "    </tr>\n",
       "    <tr>\n",
       "      <td>2</td>\n",
       "      <td>2008-08-01</td>\n",
       "      <td>5003</td>\n",
       "      <td>21</td>\n",
       "      <td>544</td>\n",
       "      <td>17</td>\n",
       "      <td>0</td>\n",
       "      <td>588</td>\n",
       "      <td>82</td>\n",
       "      <td>1272</td>\n",
       "      <td>70</td>\n",
       "      <td>...</td>\n",
       "      <td>14</td>\n",
       "      <td>188</td>\n",
       "      <td>8</td>\n",
       "      <td>5</td>\n",
       "      <td>145</td>\n",
       "      <td>6</td>\n",
       "      <td>0</td>\n",
       "      <td>62</td>\n",
       "      <td>1110</td>\n",
       "      <td>1</td>\n",
       "    </tr>\n",
       "    <tr>\n",
       "      <td>3</td>\n",
       "      <td>2008-09-01</td>\n",
       "      <td>3974</td>\n",
       "      <td>21</td>\n",
       "      <td>681</td>\n",
       "      <td>16</td>\n",
       "      <td>0</td>\n",
       "      <td>587</td>\n",
       "      <td>88</td>\n",
       "      <td>242</td>\n",
       "      <td>67</td>\n",
       "      <td>...</td>\n",
       "      <td>14</td>\n",
       "      <td>186</td>\n",
       "      <td>8</td>\n",
       "      <td>5</td>\n",
       "      <td>144</td>\n",
       "      <td>6</td>\n",
       "      <td>0</td>\n",
       "      <td>63</td>\n",
       "      <td>1055</td>\n",
       "      <td>1</td>\n",
       "    </tr>\n",
       "    <tr>\n",
       "      <td>4</td>\n",
       "      <td>2008-10-01</td>\n",
       "      <td>4738</td>\n",
       "      <td>21</td>\n",
       "      <td>716</td>\n",
       "      <td>17</td>\n",
       "      <td>0</td>\n",
       "      <td>586</td>\n",
       "      <td>86</td>\n",
       "      <td>803</td>\n",
       "      <td>66</td>\n",
       "      <td>...</td>\n",
       "      <td>14</td>\n",
       "      <td>185</td>\n",
       "      <td>8</td>\n",
       "      <td>5</td>\n",
       "      <td>145</td>\n",
       "      <td>6</td>\n",
       "      <td>0</td>\n",
       "      <td>64</td>\n",
       "      <td>1125</td>\n",
       "      <td>1</td>\n",
       "    </tr>\n",
       "  </tbody>\n",
       "</table>\n",
       "<p>5 rows × 36 columns</p>\n",
       "</div>"
      ],
      "text/plain": [
       "        Month  U.S. Crude Oil   Alabama  Alaska  Arkansas  Arizona  \\\n",
       "0  2008-06-01             5138       21     655        17        0   \n",
       "1  2008-07-01             5177       21     640        17        0   \n",
       "2  2008-08-01             5003       21     544        17        0   \n",
       "3  2008-09-01             3974       21     681        16        0   \n",
       "4  2008-10-01             4738       21     716        17        0   \n",
       "\n",
       "   California  Colorado  Federal Offshore Gulf of Mexico Crude Oil  \\\n",
       "0         583        82                                       1326   \n",
       "1         586        81                                       1372   \n",
       "2         588        82                                       1272   \n",
       "3         587        88                                        242   \n",
       "4         586        86                                        803   \n",
       "\n",
       "   Federal Offshore Pacific Crude Oil  ...  Ohio  Oklahoma  Pennsylvania  \\\n",
       "0                                  67  ...    14       186             8   \n",
       "1                                  61  ...    14       184             8   \n",
       "2                                  70  ...    14       188             8   \n",
       "3                                  67  ...    14       186             8   \n",
       "4                                  66  ...    14       185             8   \n",
       "\n",
       "   South Dakota  Wyoming  West Virginia  Virginia  Utah  Texas  Tennessee  \n",
       "0             5      144              6         0    60   1097          1  \n",
       "1             5      145              5         0    61   1111          1  \n",
       "2             5      145              6         0    62   1110          1  \n",
       "3             5      144              6         0    63   1055          1  \n",
       "4             5      145              6         0    64   1125          1  \n",
       "\n",
       "[5 rows x 36 columns]"
      ]
     },
     "execution_count": 80,
     "metadata": {},
     "output_type": "execute_result"
    }
   ],
   "source": [
    "crude_oil_data = pd.read_csv('datasets/U.S._crude_oil_production.csv')\n",
    "\n",
    "crude_oil_data.head(5)"
   ]
  },
  {
   "cell_type": "code",
   "execution_count": 81,
   "metadata": {},
   "outputs": [
    {
     "data": {
      "text/html": [
       "<div>\n",
       "<style scoped>\n",
       "    .dataframe tbody tr th:only-of-type {\n",
       "        vertical-align: middle;\n",
       "    }\n",
       "\n",
       "    .dataframe tbody tr th {\n",
       "        vertical-align: top;\n",
       "    }\n",
       "\n",
       "    .dataframe thead th {\n",
       "        text-align: right;\n",
       "    }\n",
       "</style>\n",
       "<table border=\"1\" class=\"dataframe\">\n",
       "  <thead>\n",
       "    <tr style=\"text-align: right;\">\n",
       "      <th></th>\n",
       "      <th>Month</th>\n",
       "      <th>U.S. Crude Oil</th>\n",
       "      <th>Alabama</th>\n",
       "      <th>Alaska</th>\n",
       "      <th>Arkansas</th>\n",
       "      <th>Arizona</th>\n",
       "      <th>California</th>\n",
       "      <th>Colorado</th>\n",
       "      <th>Federal Offshore Gulf of Mexico Crude Oil</th>\n",
       "      <th>Federal Offshore Pacific Crude Oil</th>\n",
       "      <th>...</th>\n",
       "      <th>Ohio</th>\n",
       "      <th>Oklahoma</th>\n",
       "      <th>Pennsylvania</th>\n",
       "      <th>South Dakota</th>\n",
       "      <th>Wyoming</th>\n",
       "      <th>West Virginia</th>\n",
       "      <th>Virginia</th>\n",
       "      <th>Utah</th>\n",
       "      <th>Texas</th>\n",
       "      <th>Tennessee</th>\n",
       "    </tr>\n",
       "  </thead>\n",
       "  <tbody>\n",
       "    <tr>\n",
       "      <td>116</td>\n",
       "      <td>2018-02-01</td>\n",
       "      <td>10248</td>\n",
       "      <td>17</td>\n",
       "      <td>513</td>\n",
       "      <td>14</td>\n",
       "      <td>0</td>\n",
       "      <td>463</td>\n",
       "      <td>428</td>\n",
       "      <td>1704</td>\n",
       "      <td>14</td>\n",
       "      <td>...</td>\n",
       "      <td>54</td>\n",
       "      <td>527</td>\n",
       "      <td>18</td>\n",
       "      <td>4</td>\n",
       "      <td>223</td>\n",
       "      <td>27</td>\n",
       "      <td>0</td>\n",
       "      <td>100</td>\n",
       "      <td>4015</td>\n",
       "      <td>1</td>\n",
       "    </tr>\n",
       "    <tr>\n",
       "      <td>117</td>\n",
       "      <td>2018-03-01</td>\n",
       "      <td>10461</td>\n",
       "      <td>17</td>\n",
       "      <td>512</td>\n",
       "      <td>14</td>\n",
       "      <td>0</td>\n",
       "      <td>462</td>\n",
       "      <td>428</td>\n",
       "      <td>1681</td>\n",
       "      <td>16</td>\n",
       "      <td>...</td>\n",
       "      <td>54</td>\n",
       "      <td>543</td>\n",
       "      <td>18</td>\n",
       "      <td>4</td>\n",
       "      <td>231</td>\n",
       "      <td>29</td>\n",
       "      <td>0</td>\n",
       "      <td>104</td>\n",
       "      <td>4185</td>\n",
       "      <td>1</td>\n",
       "    </tr>\n",
       "    <tr>\n",
       "      <td>118</td>\n",
       "      <td>2018-04-01</td>\n",
       "      <td>10475</td>\n",
       "      <td>17</td>\n",
       "      <td>497</td>\n",
       "      <td>14</td>\n",
       "      <td>0</td>\n",
       "      <td>465</td>\n",
       "      <td>447</td>\n",
       "      <td>1583</td>\n",
       "      <td>16</td>\n",
       "      <td>...</td>\n",
       "      <td>54</td>\n",
       "      <td>531</td>\n",
       "      <td>19</td>\n",
       "      <td>4</td>\n",
       "      <td>232</td>\n",
       "      <td>29</td>\n",
       "      <td>0</td>\n",
       "      <td>103</td>\n",
       "      <td>4222</td>\n",
       "      <td>1</td>\n",
       "    </tr>\n",
       "    <tr>\n",
       "      <td>119</td>\n",
       "      <td>2018-05-01</td>\n",
       "      <td>10443</td>\n",
       "      <td>16</td>\n",
       "      <td>496</td>\n",
       "      <td>14</td>\n",
       "      <td>0</td>\n",
       "      <td>464</td>\n",
       "      <td>447</td>\n",
       "      <td>1504</td>\n",
       "      <td>15</td>\n",
       "      <td>...</td>\n",
       "      <td>58</td>\n",
       "      <td>529</td>\n",
       "      <td>19</td>\n",
       "      <td>3</td>\n",
       "      <td>228</td>\n",
       "      <td>29</td>\n",
       "      <td>0</td>\n",
       "      <td>97</td>\n",
       "      <td>4245</td>\n",
       "      <td>1</td>\n",
       "    </tr>\n",
       "    <tr>\n",
       "      <td>120</td>\n",
       "      <td>2018-06-01</td>\n",
       "      <td>10674</td>\n",
       "      <td>16</td>\n",
       "      <td>451</td>\n",
       "      <td>14</td>\n",
       "      <td>0</td>\n",
       "      <td>462</td>\n",
       "      <td>423</td>\n",
       "      <td>1658</td>\n",
       "      <td>15</td>\n",
       "      <td>...</td>\n",
       "      <td>65</td>\n",
       "      <td>526</td>\n",
       "      <td>18</td>\n",
       "      <td>4</td>\n",
       "      <td>226</td>\n",
       "      <td>30</td>\n",
       "      <td>0</td>\n",
       "      <td>94</td>\n",
       "      <td>4410</td>\n",
       "      <td>1</td>\n",
       "    </tr>\n",
       "  </tbody>\n",
       "</table>\n",
       "<p>5 rows × 36 columns</p>\n",
       "</div>"
      ],
      "text/plain": [
       "          Month  U.S. Crude Oil   Alabama  Alaska  Arkansas  Arizona  \\\n",
       "116  2018-02-01            10248       17     513        14        0   \n",
       "117  2018-03-01            10461       17     512        14        0   \n",
       "118  2018-04-01            10475       17     497        14        0   \n",
       "119  2018-05-01            10443       16     496        14        0   \n",
       "120  2018-06-01            10674       16     451        14        0   \n",
       "\n",
       "     California  Colorado  Federal Offshore Gulf of Mexico Crude Oil  \\\n",
       "116         463       428                                       1704   \n",
       "117         462       428                                       1681   \n",
       "118         465       447                                       1583   \n",
       "119         464       447                                       1504   \n",
       "120         462       423                                       1658   \n",
       "\n",
       "     Federal Offshore Pacific Crude Oil  ...  Ohio  Oklahoma  Pennsylvania  \\\n",
       "116                                  14  ...    54       527            18   \n",
       "117                                  16  ...    54       543            18   \n",
       "118                                  16  ...    54       531            19   \n",
       "119                                  15  ...    58       529            19   \n",
       "120                                  15  ...    65       526            18   \n",
       "\n",
       "     South Dakota  Wyoming  West Virginia  Virginia  Utah  Texas  Tennessee  \n",
       "116             4      223             27         0   100   4015          1  \n",
       "117             4      231             29         0   104   4185          1  \n",
       "118             4      232             29         0   103   4222          1  \n",
       "119             3      228             29         0    97   4245          1  \n",
       "120             4      226             30         0    94   4410          1  \n",
       "\n",
       "[5 rows x 36 columns]"
      ]
     },
     "execution_count": 81,
     "metadata": {},
     "output_type": "execute_result"
    }
   ],
   "source": [
    "crude_oil_data.tail()"
   ]
  },
  {
   "cell_type": "code",
   "execution_count": 82,
   "metadata": {},
   "outputs": [
    {
     "data": {
      "text/plain": [
       "(121, 36)"
      ]
     },
     "execution_count": 82,
     "metadata": {},
     "output_type": "execute_result"
    }
   ],
   "source": [
    "crude_oil_data.shape"
   ]
  },
  {
   "cell_type": "code",
   "execution_count": 83,
   "metadata": {},
   "outputs": [
    {
     "data": {
      "text/plain": [
       "Index(['Month', 'U.S. Crude Oil ', 'Alabama', 'Alaska', 'Arkansas', 'Arizona',\n",
       "       'California', 'Colorado', 'Federal Offshore Gulf of Mexico Crude Oil',\n",
       "       'Federal Offshore Pacific Crude Oil', 'Florida', 'Idaho', 'Illinois',\n",
       "       'Indiana', 'Kansas', 'Kentucky', 'Louisiana', 'Michigan', 'Mississippi',\n",
       "       'Missouri', 'Nebraska', 'Montana', 'Nevada', 'New Mexico', 'New York',\n",
       "       'North Dakota', 'Ohio', 'Oklahoma', 'Pennsylvania', 'South Dakota',\n",
       "       'Wyoming', 'West Virginia', 'Virginia', 'Utah', 'Texas', 'Tennessee'],\n",
       "      dtype='object')"
      ]
     },
     "execution_count": 83,
     "metadata": {},
     "output_type": "execute_result"
    }
   ],
   "source": [
    "crude_oil_data.columns"
   ]
  },
  {
   "cell_type": "code",
   "execution_count": 84,
   "metadata": {},
   "outputs": [
    {
     "data": {
      "text/plain": [
       "Index(['Arizona', 'Virginia'], dtype='object')"
      ]
     },
     "execution_count": 84,
     "metadata": {},
     "output_type": "execute_result"
    }
   ],
   "source": [
    "crude_oil_data.columns[(crude_oil_data.sum(axis=0)) == 0]"
   ]
  },
  {
   "cell_type": "code",
   "execution_count": 85,
   "metadata": {},
   "outputs": [
    {
     "data": {
      "text/plain": [
       "Index(['Month', 'U.S. Crude Oil ', 'Alabama', 'Alaska', 'Arkansas',\n",
       "       'California', 'Colorado', 'Federal Offshore Gulf of Mexico Crude Oil',\n",
       "       'Federal Offshore Pacific Crude Oil', 'Florida', 'Idaho', 'Illinois',\n",
       "       'Indiana', 'Kansas', 'Kentucky', 'Louisiana', 'Michigan', 'Mississippi',\n",
       "       'Missouri', 'Nebraska', 'Montana', 'Nevada', 'New Mexico', 'New York',\n",
       "       'North Dakota', 'Ohio', 'Oklahoma', 'Pennsylvania', 'South Dakota',\n",
       "       'Wyoming', 'West Virginia', 'Utah', 'Texas', 'Tennessee'],\n",
       "      dtype='object')"
      ]
     },
     "execution_count": 85,
     "metadata": {},
     "output_type": "execute_result"
    }
   ],
   "source": [
    "crude_oil_data.drop(['Arizona', 'Virginia'], inplace=True, axis=1)\n",
    "\n",
    "crude_oil_data.columns"
   ]
  },
  {
   "cell_type": "code",
   "execution_count": 86,
   "metadata": {},
   "outputs": [
    {
     "data": {
      "text/plain": [
       "0   2008-06-01\n",
       "1   2008-07-01\n",
       "2   2008-08-01\n",
       "3   2008-09-01\n",
       "4   2008-10-01\n",
       "Name: Date, dtype: datetime64[ns]"
      ]
     },
     "execution_count": 86,
     "metadata": {},
     "output_type": "execute_result"
    }
   ],
   "source": [
    "crude_oil_data['Date'] = pd.to_datetime(crude_oil_data['Month'])\n",
    "\n",
    "crude_oil_data['Date'].head()"
   ]
  },
  {
   "cell_type": "code",
   "execution_count": 87,
   "metadata": {},
   "outputs": [
    {
     "data": {
      "text/plain": [
       "Index(['U.S. Crude Oil ', 'Alabama', 'Alaska', 'Arkansas', 'California',\n",
       "       'Colorado', 'Federal Offshore Gulf of Mexico Crude Oil',\n",
       "       'Federal Offshore Pacific Crude Oil', 'Florida', 'Idaho', 'Illinois',\n",
       "       'Indiana', 'Kansas', 'Kentucky', 'Louisiana', 'Michigan', 'Mississippi',\n",
       "       'Missouri', 'Nebraska', 'Montana', 'Nevada', 'New Mexico', 'New York',\n",
       "       'North Dakota', 'Ohio', 'Oklahoma', 'Pennsylvania', 'South Dakota',\n",
       "       'Wyoming', 'West Virginia', 'Utah', 'Texas', 'Tennessee', 'Date'],\n",
       "      dtype='object')"
      ]
     },
     "execution_count": 87,
     "metadata": {},
     "output_type": "execute_result"
    }
   ],
   "source": [
    "crude_oil_data.drop('Month', inplace=True, axis=1)\n",
    "\n",
    "crude_oil_data.columns"
   ]
  },
  {
   "cell_type": "markdown",
   "metadata": {},
   "source": [
    "#### Converting the Date column `Month` to pandas DatetimeIndex - For future use"
   ]
  },
  {
   "cell_type": "code",
   "execution_count": 89,
   "metadata": {},
   "outputs": [
    {
     "data": {
      "text/plain": [
       "Index(['U.S. Crude Oil ', 'Alabama', 'Alaska', 'Arkansas', 'California',\n",
       "       'Colorado', 'Mexico', 'Pacific', 'Florida', 'Idaho', 'Illinois',\n",
       "       'Indiana', 'Kansas', 'Kentucky', 'Louisiana', 'Michigan', 'Mississippi',\n",
       "       'Missouri', 'Nebraska', 'Montana', 'Nevada', 'New Mexico', 'New York',\n",
       "       'North Dakota', 'Ohio', 'Oklahoma', 'Pennsylvania', 'South Dakota',\n",
       "       'Wyoming', 'West Virginia', 'Utah', 'Texas', 'Tennessee', 'Date'],\n",
       "      dtype='object')"
      ]
     },
     "execution_count": 89,
     "metadata": {},
     "output_type": "execute_result"
    }
   ],
   "source": [
    "crude_oil_data = crude_oil_data.rename(columns={'Federal Offshore Gulf of Mexico Crude Oil': 'Mexico', \n",
    "                                                'Federal Offshore Pacific Crude Oil': 'Pacific'})\n",
    "\n",
    "crude_oil_data.columns"
   ]
  },
  {
   "cell_type": "code",
   "execution_count": 91,
   "metadata": {},
   "outputs": [
    {
     "data": {
      "text/plain": [
       "102    2016\n",
       "33     2011\n",
       "29     2010\n",
       "85     2015\n",
       "73     2014\n",
       "56     2013\n",
       "14     2009\n",
       "114    2017\n",
       "17     2009\n",
       "69     2014\n",
       "Name: Year, dtype: int64"
      ]
     },
     "execution_count": 91,
     "metadata": {},
     "output_type": "execute_result"
    }
   ],
   "source": [
    "crude_oil_data['Year'] = crude_oil_data['Date'].dt.year\n",
    "\n",
    "crude_oil_data['Year'].sample(10)"
   ]
  },
  {
   "cell_type": "code",
   "execution_count": 92,
   "metadata": {},
   "outputs": [
    {
     "data": {
      "text/plain": [
       "64     10\n",
       "61      7\n",
       "14      8\n",
       "28     10\n",
       "110     8\n",
       "94      4\n",
       "71      5\n",
       "50      8\n",
       "12      6\n",
       "109     7\n",
       "Name: Month, dtype: int64"
      ]
     },
     "execution_count": 92,
     "metadata": {},
     "output_type": "execute_result"
    }
   ],
   "source": [
    "crude_oil_data['Month'] = crude_oil_data['Date'].dt.month\n",
    "\n",
    "crude_oil_data['Month'].sample(10)"
   ]
  },
  {
   "cell_type": "markdown",
   "metadata": {},
   "source": [
    "#### Saving back to dataset folder - for the usage of next demo"
   ]
  },
  {
   "cell_type": "code",
   "execution_count": 93,
   "metadata": {},
   "outputs": [],
   "source": [
    "crude_oil_data.to_csv('datasets/crude_oil_data_processed.csv', index = False)"
   ]
  },
  {
   "cell_type": "markdown",
   "metadata": {},
   "source": [
    "#### Describing the data"
   ]
  },
  {
   "cell_type": "code",
   "execution_count": 94,
   "metadata": {},
   "outputs": [
    {
     "data": {
      "text/html": [
       "<div>\n",
       "<style scoped>\n",
       "    .dataframe tbody tr th:only-of-type {\n",
       "        vertical-align: middle;\n",
       "    }\n",
       "\n",
       "    .dataframe tbody tr th {\n",
       "        vertical-align: top;\n",
       "    }\n",
       "\n",
       "    .dataframe thead th {\n",
       "        text-align: right;\n",
       "    }\n",
       "</style>\n",
       "<table border=\"1\" class=\"dataframe\">\n",
       "  <thead>\n",
       "    <tr style=\"text-align: right;\">\n",
       "      <th></th>\n",
       "      <th>U.S. Crude Oil</th>\n",
       "      <th>Alabama</th>\n",
       "      <th>Alaska</th>\n",
       "      <th>Arkansas</th>\n",
       "      <th>California</th>\n",
       "      <th>Colorado</th>\n",
       "      <th>Mexico</th>\n",
       "      <th>Pacific</th>\n",
       "      <th>Florida</th>\n",
       "      <th>Idaho</th>\n",
       "      <th>...</th>\n",
       "      <th>Oklahoma</th>\n",
       "      <th>Pennsylvania</th>\n",
       "      <th>South Dakota</th>\n",
       "      <th>Wyoming</th>\n",
       "      <th>West Virginia</th>\n",
       "      <th>Utah</th>\n",
       "      <th>Texas</th>\n",
       "      <th>Tennessee</th>\n",
       "      <th>Year</th>\n",
       "      <th>Month</th>\n",
       "    </tr>\n",
       "  </thead>\n",
       "  <tbody>\n",
       "    <tr>\n",
       "      <td>count</td>\n",
       "      <td>121.000000</td>\n",
       "      <td>121.000000</td>\n",
       "      <td>121.000000</td>\n",
       "      <td>121.000000</td>\n",
       "      <td>121.000000</td>\n",
       "      <td>121.000000</td>\n",
       "      <td>121.000000</td>\n",
       "      <td>121.000000</td>\n",
       "      <td>121.000000</td>\n",
       "      <td>121.000000</td>\n",
       "      <td>...</td>\n",
       "      <td>121.000000</td>\n",
       "      <td>121.000000</td>\n",
       "      <td>121.000000</td>\n",
       "      <td>121.000000</td>\n",
       "      <td>121.000000</td>\n",
       "      <td>121.000000</td>\n",
       "      <td>121.000000</td>\n",
       "      <td>121.0</td>\n",
       "      <td>121.000000</td>\n",
       "      <td>121.000000</td>\n",
       "    </tr>\n",
       "    <tr>\n",
       "      <td>mean</td>\n",
       "      <td>7423.694215</td>\n",
       "      <td>22.958678</td>\n",
       "      <td>540.404959</td>\n",
       "      <td>16.462810</td>\n",
       "      <td>536.388430</td>\n",
       "      <td>212.115702</td>\n",
       "      <td>1444.264463</td>\n",
       "      <td>43.115702</td>\n",
       "      <td>5.190083</td>\n",
       "      <td>0.066116</td>\n",
       "      <td>...</td>\n",
       "      <td>321.611570</td>\n",
       "      <td>13.876033</td>\n",
       "      <td>4.504132</td>\n",
       "      <td>180.429752</td>\n",
       "      <td>16.471074</td>\n",
       "      <td>85.148760</td>\n",
       "      <td>2403.826446</td>\n",
       "      <td>1.0</td>\n",
       "      <td>2012.958678</td>\n",
       "      <td>6.495868</td>\n",
       "    </tr>\n",
       "    <tr>\n",
       "      <td>std</td>\n",
       "      <td>1801.581601</td>\n",
       "      <td>3.773585</td>\n",
       "      <td>73.691879</td>\n",
       "      <td>1.483472</td>\n",
       "      <td>33.228595</td>\n",
       "      <td>117.403165</td>\n",
       "      <td>216.197200</td>\n",
       "      <td>18.735523</td>\n",
       "      <td>1.273539</td>\n",
       "      <td>0.249517</td>\n",
       "      <td>...</td>\n",
       "      <td>119.141958</td>\n",
       "      <td>4.497352</td>\n",
       "      <td>0.564564</td>\n",
       "      <td>34.097367</td>\n",
       "      <td>10.968952</td>\n",
       "      <td>16.662163</td>\n",
       "      <td>1025.413694</td>\n",
       "      <td>0.0</td>\n",
       "      <td>2.950697</td>\n",
       "      <td>3.452352</td>\n",
       "    </tr>\n",
       "    <tr>\n",
       "      <td>min</td>\n",
       "      <td>3974.000000</td>\n",
       "      <td>16.000000</td>\n",
       "      <td>398.000000</td>\n",
       "      <td>14.000000</td>\n",
       "      <td>461.000000</td>\n",
       "      <td>81.000000</td>\n",
       "      <td>242.000000</td>\n",
       "      <td>13.000000</td>\n",
       "      <td>2.000000</td>\n",
       "      <td>0.000000</td>\n",
       "      <td>...</td>\n",
       "      <td>152.000000</td>\n",
       "      <td>8.000000</td>\n",
       "      <td>3.000000</td>\n",
       "      <td>137.000000</td>\n",
       "      <td>3.000000</td>\n",
       "      <td>59.000000</td>\n",
       "      <td>1055.000000</td>\n",
       "      <td>1.0</td>\n",
       "      <td>2008.000000</td>\n",
       "      <td>1.000000</td>\n",
       "    </tr>\n",
       "    <tr>\n",
       "      <td>25%</td>\n",
       "      <td>5555.000000</td>\n",
       "      <td>20.000000</td>\n",
       "      <td>497.000000</td>\n",
       "      <td>15.000000</td>\n",
       "      <td>534.000000</td>\n",
       "      <td>97.000000</td>\n",
       "      <td>1322.000000</td>\n",
       "      <td>18.000000</td>\n",
       "      <td>5.000000</td>\n",
       "      <td>0.000000</td>\n",
       "      <td>...</td>\n",
       "      <td>201.000000</td>\n",
       "      <td>9.000000</td>\n",
       "      <td>4.000000</td>\n",
       "      <td>147.000000</td>\n",
       "      <td>6.000000</td>\n",
       "      <td>71.000000</td>\n",
       "      <td>1243.000000</td>\n",
       "      <td>1.0</td>\n",
       "      <td>2010.000000</td>\n",
       "      <td>4.000000</td>\n",
       "    </tr>\n",
       "    <tr>\n",
       "      <td>50%</td>\n",
       "      <td>7355.000000</td>\n",
       "      <td>22.000000</td>\n",
       "      <td>523.000000</td>\n",
       "      <td>16.000000</td>\n",
       "      <td>544.000000</td>\n",
       "      <td>169.000000</td>\n",
       "      <td>1452.000000</td>\n",
       "      <td>51.000000</td>\n",
       "      <td>6.000000</td>\n",
       "      <td>0.000000</td>\n",
       "      <td>...</td>\n",
       "      <td>320.000000</td>\n",
       "      <td>13.000000</td>\n",
       "      <td>5.000000</td>\n",
       "      <td>174.000000</td>\n",
       "      <td>20.000000</td>\n",
       "      <td>85.000000</td>\n",
       "      <td>2533.000000</td>\n",
       "      <td>1.0</td>\n",
       "      <td>2013.000000</td>\n",
       "      <td>6.000000</td>\n",
       "    </tr>\n",
       "    <tr>\n",
       "      <td>75%</td>\n",
       "      <td>9085.000000</td>\n",
       "      <td>26.000000</td>\n",
       "      <td>582.000000</td>\n",
       "      <td>18.000000</td>\n",
       "      <td>559.000000</td>\n",
       "      <td>320.000000</td>\n",
       "      <td>1593.000000</td>\n",
       "      <td>56.000000</td>\n",
       "      <td>6.000000</td>\n",
       "      <td>0.000000</td>\n",
       "      <td>...</td>\n",
       "      <td>433.000000</td>\n",
       "      <td>18.000000</td>\n",
       "      <td>5.000000</td>\n",
       "      <td>209.000000</td>\n",
       "      <td>25.000000</td>\n",
       "      <td>97.000000</td>\n",
       "      <td>3301.000000</td>\n",
       "      <td>1.0</td>\n",
       "      <td>2015.000000</td>\n",
       "      <td>9.000000</td>\n",
       "    </tr>\n",
       "    <tr>\n",
       "      <td>max</td>\n",
       "      <td>10674.000000</td>\n",
       "      <td>29.000000</td>\n",
       "      <td>728.000000</td>\n",
       "      <td>19.000000</td>\n",
       "      <td>588.000000</td>\n",
       "      <td>447.000000</td>\n",
       "      <td>1775.000000</td>\n",
       "      <td>70.000000</td>\n",
       "      <td>7.000000</td>\n",
       "      <td>1.000000</td>\n",
       "      <td>...</td>\n",
       "      <td>543.000000</td>\n",
       "      <td>22.000000</td>\n",
       "      <td>5.000000</td>\n",
       "      <td>251.000000</td>\n",
       "      <td>39.000000</td>\n",
       "      <td>116.000000</td>\n",
       "      <td>4410.000000</td>\n",
       "      <td>1.0</td>\n",
       "      <td>2018.000000</td>\n",
       "      <td>12.000000</td>\n",
       "    </tr>\n",
       "  </tbody>\n",
       "</table>\n",
       "<p>8 rows × 35 columns</p>\n",
       "</div>"
      ],
      "text/plain": [
       "       U.S. Crude Oil      Alabama      Alaska    Arkansas  California  \\\n",
       "count       121.000000  121.000000  121.000000  121.000000  121.000000   \n",
       "mean       7423.694215   22.958678  540.404959   16.462810  536.388430   \n",
       "std        1801.581601    3.773585   73.691879    1.483472   33.228595   \n",
       "min        3974.000000   16.000000  398.000000   14.000000  461.000000   \n",
       "25%        5555.000000   20.000000  497.000000   15.000000  534.000000   \n",
       "50%        7355.000000   22.000000  523.000000   16.000000  544.000000   \n",
       "75%        9085.000000   26.000000  582.000000   18.000000  559.000000   \n",
       "max       10674.000000   29.000000  728.000000   19.000000  588.000000   \n",
       "\n",
       "         Colorado       Mexico     Pacific     Florida       Idaho  ...  \\\n",
       "count  121.000000   121.000000  121.000000  121.000000  121.000000  ...   \n",
       "mean   212.115702  1444.264463   43.115702    5.190083    0.066116  ...   \n",
       "std    117.403165   216.197200   18.735523    1.273539    0.249517  ...   \n",
       "min     81.000000   242.000000   13.000000    2.000000    0.000000  ...   \n",
       "25%     97.000000  1322.000000   18.000000    5.000000    0.000000  ...   \n",
       "50%    169.000000  1452.000000   51.000000    6.000000    0.000000  ...   \n",
       "75%    320.000000  1593.000000   56.000000    6.000000    0.000000  ...   \n",
       "max    447.000000  1775.000000   70.000000    7.000000    1.000000  ...   \n",
       "\n",
       "         Oklahoma  Pennsylvania  South Dakota     Wyoming  West Virginia  \\\n",
       "count  121.000000    121.000000    121.000000  121.000000     121.000000   \n",
       "mean   321.611570     13.876033      4.504132  180.429752      16.471074   \n",
       "std    119.141958      4.497352      0.564564   34.097367      10.968952   \n",
       "min    152.000000      8.000000      3.000000  137.000000       3.000000   \n",
       "25%    201.000000      9.000000      4.000000  147.000000       6.000000   \n",
       "50%    320.000000     13.000000      5.000000  174.000000      20.000000   \n",
       "75%    433.000000     18.000000      5.000000  209.000000      25.000000   \n",
       "max    543.000000     22.000000      5.000000  251.000000      39.000000   \n",
       "\n",
       "             Utah        Texas  Tennessee         Year       Month  \n",
       "count  121.000000   121.000000      121.0   121.000000  121.000000  \n",
       "mean    85.148760  2403.826446        1.0  2012.958678    6.495868  \n",
       "std     16.662163  1025.413694        0.0     2.950697    3.452352  \n",
       "min     59.000000  1055.000000        1.0  2008.000000    1.000000  \n",
       "25%     71.000000  1243.000000        1.0  2010.000000    4.000000  \n",
       "50%     85.000000  2533.000000        1.0  2013.000000    6.000000  \n",
       "75%     97.000000  3301.000000        1.0  2015.000000    9.000000  \n",
       "max    116.000000  4410.000000        1.0  2018.000000   12.000000  \n",
       "\n",
       "[8 rows x 35 columns]"
      ]
     },
     "execution_count": 94,
     "metadata": {},
     "output_type": "execute_result"
    }
   ],
   "source": [
    "crude_oil_data.describe()"
   ]
  },
  {
   "cell_type": "code",
   "execution_count": null,
   "metadata": {},
   "outputs": [],
   "source": []
  },
  {
   "cell_type": "code",
   "execution_count": null,
   "metadata": {},
   "outputs": [],
   "source": []
  },
  {
   "cell_type": "code",
   "execution_count": null,
   "metadata": {},
   "outputs": [],
   "source": []
  },
  {
   "cell_type": "code",
   "execution_count": null,
   "metadata": {},
   "outputs": [],
   "source": []
  }
 ],
 "metadata": {
  "kernelspec": {
   "display_name": "Python 3",
   "language": "python",
   "name": "python3"
  },
  "language_info": {
   "codemirror_mode": {
    "name": "ipython",
    "version": 3
   },
   "file_extension": ".py",
   "mimetype": "text/x-python",
   "name": "python",
   "nbconvert_exporter": "python",
   "pygments_lexer": "ipython3",
   "version": "3.8.5"
  }
 },
 "nbformat": 4,
 "nbformat_minor": 2
}
