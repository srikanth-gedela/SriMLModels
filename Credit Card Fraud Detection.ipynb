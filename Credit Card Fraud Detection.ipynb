{
 "cells": [
  {
   "cell_type": "markdown",
   "id": "cathedral-conference",
   "metadata": {},
   "source": [
    "It is important that credit card companies are able to recognize fraudulent credit card transactions so that customers are not charged for items that they did not purchase.\n",
    "\n",
    "The datasets contain transactions made by credit cards in September 2013 by European cardholders. This dataset presents transactions that occurred in two days, where we have 492 frauds out of 284,807 transactions. The dataset is highly unbalanced, the positive class (frauds) account for 0.172% of all transactions.\n",
    "\n",
    "Note**: Due to space issues we only have a subset of this dataset.\n",
    "\n",
    "It contains only numerical input variables which are the result of a PCA transformation. Unfortunately, due to confidentiality issues, we cannot provide the original features and more background information about the data. Features V1, V2, … V28 are the principal components obtained with PCA, the only features which have not been transformed with PCA are 'Time' and 'Amount'. Feature 'Time' contains the seconds elapsed between each transaction and the first transaction in the dataset. The feature 'Amount' is the transaction Amount, this feature can be used for example-dependant cost-sensitive learning. Feature 'Class' is the response variable and it takes value 1 in case of fraud and 0 otherwise.\n",
    "\n",
    "The dataset has been collected and analyzed during a research collaboration of Worldline and the Machine Learning Group (http://mlg.ulb.ac.be) of ULB (Université Libre de Bruxelles) on big data mining and fraud detection. The dataset could be found in https://www.kaggle.com/mlg-ulb/creditcardfraud\n",
    "\n",
    "More details on current and past projects on related topics are available on https://www.researchgate.net/project/Fraud-detection-5 and the page of the DefeatFraud project"
   ]
  },
  {
   "cell_type": "code",
   "execution_count": 1,
   "id": "welsh-diary",
   "metadata": {},
   "outputs": [],
   "source": [
    "import pandas as pd\n",
    "import matplotlib.pyplot as plt\n",
    "import seaborn as sns"
   ]
  },
  {
   "cell_type": "code",
   "execution_count": 2,
   "id": "assisted-testing",
   "metadata": {},
   "outputs": [],
   "source": [
    "## If you have .tar.gz file we can directly use pandas \n",
    "#data = pd.read_csv('./datasets/creditcard.csv.tar.gz',compression='gzip', header=0, sep=',', quotechar='\"')\n",
    "\n",
    "##Code to handle column name change and extra null row that was modified/added while archiving the file \n",
    "#data.dropna(axis=0, inplace=True)\n",
    "#data.rename(columns={\"./creditcard.csv\":\"Time\"}, inplace=True)\n",
    "\n",
    "#df_union_all= pd.concat([data[data[\"Class\"] == 1], data[data[\"Class\"] == 0].head(90000)],ignore_index=True)\n",
    "#df_union_all.to_csv(\"./datasets/creditcard.csv\")\n",
    "\n",
    "## If you have .csv file you cna use the code below\n",
    "data = pd.read_csv('./datasets/creditcard.csv')\n"
   ]
  },
  {
   "cell_type": "code",
   "execution_count": 3,
   "id": "earlier-comparative",
   "metadata": {},
   "outputs": [
    {
     "data": {
      "text/html": [
       "<div>\n",
       "<style scoped>\n",
       "    .dataframe tbody tr th:only-of-type {\n",
       "        vertical-align: middle;\n",
       "    }\n",
       "\n",
       "    .dataframe tbody tr th {\n",
       "        vertical-align: top;\n",
       "    }\n",
       "\n",
       "    .dataframe thead th {\n",
       "        text-align: right;\n",
       "    }\n",
       "</style>\n",
       "<table border=\"1\" class=\"dataframe\">\n",
       "  <thead>\n",
       "    <tr style=\"text-align: right;\">\n",
       "      <th></th>\n",
       "      <th>Unnamed: 0</th>\n",
       "      <th>Time</th>\n",
       "      <th>V1</th>\n",
       "      <th>V2</th>\n",
       "      <th>V3</th>\n",
       "      <th>V4</th>\n",
       "      <th>V5</th>\n",
       "      <th>V6</th>\n",
       "      <th>V7</th>\n",
       "      <th>V8</th>\n",
       "      <th>...</th>\n",
       "      <th>V21</th>\n",
       "      <th>V22</th>\n",
       "      <th>V23</th>\n",
       "      <th>V24</th>\n",
       "      <th>V25</th>\n",
       "      <th>V26</th>\n",
       "      <th>V27</th>\n",
       "      <th>V28</th>\n",
       "      <th>Amount</th>\n",
       "      <th>Class</th>\n",
       "    </tr>\n",
       "  </thead>\n",
       "  <tbody>\n",
       "    <tr>\n",
       "      <th>0</th>\n",
       "      <td>0</td>\n",
       "      <td>406.0</td>\n",
       "      <td>-2.312227</td>\n",
       "      <td>1.951992</td>\n",
       "      <td>-1.609851</td>\n",
       "      <td>3.997906</td>\n",
       "      <td>-0.522188</td>\n",
       "      <td>-1.426545</td>\n",
       "      <td>-2.537387</td>\n",
       "      <td>1.391657</td>\n",
       "      <td>...</td>\n",
       "      <td>0.517232</td>\n",
       "      <td>-0.035049</td>\n",
       "      <td>-0.465211</td>\n",
       "      <td>0.320198</td>\n",
       "      <td>0.044519</td>\n",
       "      <td>0.177840</td>\n",
       "      <td>0.261145</td>\n",
       "      <td>-0.143276</td>\n",
       "      <td>0.00</td>\n",
       "      <td>1.0</td>\n",
       "    </tr>\n",
       "    <tr>\n",
       "      <th>1</th>\n",
       "      <td>1</td>\n",
       "      <td>472.0</td>\n",
       "      <td>-3.043541</td>\n",
       "      <td>-3.157307</td>\n",
       "      <td>1.088463</td>\n",
       "      <td>2.288644</td>\n",
       "      <td>1.359805</td>\n",
       "      <td>-1.064823</td>\n",
       "      <td>0.325574</td>\n",
       "      <td>-0.067794</td>\n",
       "      <td>...</td>\n",
       "      <td>0.661696</td>\n",
       "      <td>0.435477</td>\n",
       "      <td>1.375966</td>\n",
       "      <td>-0.293803</td>\n",
       "      <td>0.279798</td>\n",
       "      <td>-0.145362</td>\n",
       "      <td>-0.252773</td>\n",
       "      <td>0.035764</td>\n",
       "      <td>529.00</td>\n",
       "      <td>1.0</td>\n",
       "    </tr>\n",
       "    <tr>\n",
       "      <th>2</th>\n",
       "      <td>2</td>\n",
       "      <td>4462.0</td>\n",
       "      <td>-2.303350</td>\n",
       "      <td>1.759247</td>\n",
       "      <td>-0.359745</td>\n",
       "      <td>2.330243</td>\n",
       "      <td>-0.821628</td>\n",
       "      <td>-0.075788</td>\n",
       "      <td>0.562320</td>\n",
       "      <td>-0.399147</td>\n",
       "      <td>...</td>\n",
       "      <td>-0.294166</td>\n",
       "      <td>-0.932391</td>\n",
       "      <td>0.172726</td>\n",
       "      <td>-0.087330</td>\n",
       "      <td>-0.156114</td>\n",
       "      <td>-0.542628</td>\n",
       "      <td>0.039566</td>\n",
       "      <td>-0.153029</td>\n",
       "      <td>239.93</td>\n",
       "      <td>1.0</td>\n",
       "    </tr>\n",
       "    <tr>\n",
       "      <th>3</th>\n",
       "      <td>3</td>\n",
       "      <td>6986.0</td>\n",
       "      <td>-4.397974</td>\n",
       "      <td>1.358367</td>\n",
       "      <td>-2.592844</td>\n",
       "      <td>2.679787</td>\n",
       "      <td>-1.128131</td>\n",
       "      <td>-1.706536</td>\n",
       "      <td>-3.496197</td>\n",
       "      <td>-0.248778</td>\n",
       "      <td>...</td>\n",
       "      <td>0.573574</td>\n",
       "      <td>0.176968</td>\n",
       "      <td>-0.436207</td>\n",
       "      <td>-0.053502</td>\n",
       "      <td>0.252405</td>\n",
       "      <td>-0.657488</td>\n",
       "      <td>-0.827136</td>\n",
       "      <td>0.849573</td>\n",
       "      <td>59.00</td>\n",
       "      <td>1.0</td>\n",
       "    </tr>\n",
       "    <tr>\n",
       "      <th>4</th>\n",
       "      <td>4</td>\n",
       "      <td>7519.0</td>\n",
       "      <td>1.234235</td>\n",
       "      <td>3.019740</td>\n",
       "      <td>-4.304597</td>\n",
       "      <td>4.732795</td>\n",
       "      <td>3.624201</td>\n",
       "      <td>-1.357746</td>\n",
       "      <td>1.713445</td>\n",
       "      <td>-0.496358</td>\n",
       "      <td>...</td>\n",
       "      <td>-0.379068</td>\n",
       "      <td>-0.704181</td>\n",
       "      <td>-0.656805</td>\n",
       "      <td>-1.632653</td>\n",
       "      <td>1.488901</td>\n",
       "      <td>0.566797</td>\n",
       "      <td>-0.010016</td>\n",
       "      <td>0.146793</td>\n",
       "      <td>1.00</td>\n",
       "      <td>1.0</td>\n",
       "    </tr>\n",
       "    <tr>\n",
       "      <th>5</th>\n",
       "      <td>5</td>\n",
       "      <td>7526.0</td>\n",
       "      <td>0.008430</td>\n",
       "      <td>4.137837</td>\n",
       "      <td>-6.240697</td>\n",
       "      <td>6.675732</td>\n",
       "      <td>0.768307</td>\n",
       "      <td>-3.353060</td>\n",
       "      <td>-1.631735</td>\n",
       "      <td>0.154612</td>\n",
       "      <td>...</td>\n",
       "      <td>0.364514</td>\n",
       "      <td>-0.608057</td>\n",
       "      <td>-0.539528</td>\n",
       "      <td>0.128940</td>\n",
       "      <td>1.488481</td>\n",
       "      <td>0.507963</td>\n",
       "      <td>0.735822</td>\n",
       "      <td>0.513574</td>\n",
       "      <td>1.00</td>\n",
       "      <td>1.0</td>\n",
       "    </tr>\n",
       "    <tr>\n",
       "      <th>6</th>\n",
       "      <td>6</td>\n",
       "      <td>7535.0</td>\n",
       "      <td>0.026779</td>\n",
       "      <td>4.132464</td>\n",
       "      <td>-6.560600</td>\n",
       "      <td>6.348557</td>\n",
       "      <td>1.329666</td>\n",
       "      <td>-2.513479</td>\n",
       "      <td>-1.689102</td>\n",
       "      <td>0.303253</td>\n",
       "      <td>...</td>\n",
       "      <td>0.370509</td>\n",
       "      <td>-0.576752</td>\n",
       "      <td>-0.669605</td>\n",
       "      <td>-0.759908</td>\n",
       "      <td>1.605056</td>\n",
       "      <td>0.540675</td>\n",
       "      <td>0.737040</td>\n",
       "      <td>0.496699</td>\n",
       "      <td>1.00</td>\n",
       "      <td>1.0</td>\n",
       "    </tr>\n",
       "    <tr>\n",
       "      <th>7</th>\n",
       "      <td>7</td>\n",
       "      <td>7543.0</td>\n",
       "      <td>0.329594</td>\n",
       "      <td>3.712889</td>\n",
       "      <td>-5.775935</td>\n",
       "      <td>6.078266</td>\n",
       "      <td>1.667359</td>\n",
       "      <td>-2.420168</td>\n",
       "      <td>-0.812891</td>\n",
       "      <td>0.133080</td>\n",
       "      <td>...</td>\n",
       "      <td>0.156617</td>\n",
       "      <td>-0.652450</td>\n",
       "      <td>-0.551572</td>\n",
       "      <td>-0.716522</td>\n",
       "      <td>1.415717</td>\n",
       "      <td>0.555265</td>\n",
       "      <td>0.530507</td>\n",
       "      <td>0.404474</td>\n",
       "      <td>1.00</td>\n",
       "      <td>1.0</td>\n",
       "    </tr>\n",
       "    <tr>\n",
       "      <th>8</th>\n",
       "      <td>8</td>\n",
       "      <td>7551.0</td>\n",
       "      <td>0.316459</td>\n",
       "      <td>3.809076</td>\n",
       "      <td>-5.615159</td>\n",
       "      <td>6.047445</td>\n",
       "      <td>1.554026</td>\n",
       "      <td>-2.651353</td>\n",
       "      <td>-0.746579</td>\n",
       "      <td>0.055586</td>\n",
       "      <td>...</td>\n",
       "      <td>0.208828</td>\n",
       "      <td>-0.511747</td>\n",
       "      <td>-0.583813</td>\n",
       "      <td>-0.219845</td>\n",
       "      <td>1.474753</td>\n",
       "      <td>0.491192</td>\n",
       "      <td>0.518868</td>\n",
       "      <td>0.402528</td>\n",
       "      <td>1.00</td>\n",
       "      <td>1.0</td>\n",
       "    </tr>\n",
       "    <tr>\n",
       "      <th>9</th>\n",
       "      <td>9</td>\n",
       "      <td>7610.0</td>\n",
       "      <td>0.725646</td>\n",
       "      <td>2.300894</td>\n",
       "      <td>-5.329976</td>\n",
       "      <td>4.007683</td>\n",
       "      <td>-1.730411</td>\n",
       "      <td>-1.732193</td>\n",
       "      <td>-3.968593</td>\n",
       "      <td>1.063728</td>\n",
       "      <td>...</td>\n",
       "      <td>0.589669</td>\n",
       "      <td>0.109541</td>\n",
       "      <td>0.601045</td>\n",
       "      <td>-0.364700</td>\n",
       "      <td>-1.843078</td>\n",
       "      <td>0.351909</td>\n",
       "      <td>0.594550</td>\n",
       "      <td>0.099372</td>\n",
       "      <td>1.00</td>\n",
       "      <td>1.0</td>\n",
       "    </tr>\n",
       "  </tbody>\n",
       "</table>\n",
       "<p>10 rows × 32 columns</p>\n",
       "</div>"
      ],
      "text/plain": [
       "   Unnamed: 0    Time        V1        V2        V3        V4        V5  \\\n",
       "0           0   406.0 -2.312227  1.951992 -1.609851  3.997906 -0.522188   \n",
       "1           1   472.0 -3.043541 -3.157307  1.088463  2.288644  1.359805   \n",
       "2           2  4462.0 -2.303350  1.759247 -0.359745  2.330243 -0.821628   \n",
       "3           3  6986.0 -4.397974  1.358367 -2.592844  2.679787 -1.128131   \n",
       "4           4  7519.0  1.234235  3.019740 -4.304597  4.732795  3.624201   \n",
       "5           5  7526.0  0.008430  4.137837 -6.240697  6.675732  0.768307   \n",
       "6           6  7535.0  0.026779  4.132464 -6.560600  6.348557  1.329666   \n",
       "7           7  7543.0  0.329594  3.712889 -5.775935  6.078266  1.667359   \n",
       "8           8  7551.0  0.316459  3.809076 -5.615159  6.047445  1.554026   \n",
       "9           9  7610.0  0.725646  2.300894 -5.329976  4.007683 -1.730411   \n",
       "\n",
       "         V6        V7        V8  ...       V21       V22       V23       V24  \\\n",
       "0 -1.426545 -2.537387  1.391657  ...  0.517232 -0.035049 -0.465211  0.320198   \n",
       "1 -1.064823  0.325574 -0.067794  ...  0.661696  0.435477  1.375966 -0.293803   \n",
       "2 -0.075788  0.562320 -0.399147  ... -0.294166 -0.932391  0.172726 -0.087330   \n",
       "3 -1.706536 -3.496197 -0.248778  ...  0.573574  0.176968 -0.436207 -0.053502   \n",
       "4 -1.357746  1.713445 -0.496358  ... -0.379068 -0.704181 -0.656805 -1.632653   \n",
       "5 -3.353060 -1.631735  0.154612  ...  0.364514 -0.608057 -0.539528  0.128940   \n",
       "6 -2.513479 -1.689102  0.303253  ...  0.370509 -0.576752 -0.669605 -0.759908   \n",
       "7 -2.420168 -0.812891  0.133080  ...  0.156617 -0.652450 -0.551572 -0.716522   \n",
       "8 -2.651353 -0.746579  0.055586  ...  0.208828 -0.511747 -0.583813 -0.219845   \n",
       "9 -1.732193 -3.968593  1.063728  ...  0.589669  0.109541  0.601045 -0.364700   \n",
       "\n",
       "        V25       V26       V27       V28  Amount  Class  \n",
       "0  0.044519  0.177840  0.261145 -0.143276    0.00    1.0  \n",
       "1  0.279798 -0.145362 -0.252773  0.035764  529.00    1.0  \n",
       "2 -0.156114 -0.542628  0.039566 -0.153029  239.93    1.0  \n",
       "3  0.252405 -0.657488 -0.827136  0.849573   59.00    1.0  \n",
       "4  1.488901  0.566797 -0.010016  0.146793    1.00    1.0  \n",
       "5  1.488481  0.507963  0.735822  0.513574    1.00    1.0  \n",
       "6  1.605056  0.540675  0.737040  0.496699    1.00    1.0  \n",
       "7  1.415717  0.555265  0.530507  0.404474    1.00    1.0  \n",
       "8  1.474753  0.491192  0.518868  0.402528    1.00    1.0  \n",
       "9 -1.843078  0.351909  0.594550  0.099372    1.00    1.0  \n",
       "\n",
       "[10 rows x 32 columns]"
      ]
     },
     "execution_count": 3,
     "metadata": {},
     "output_type": "execute_result"
    }
   ],
   "source": [
    "data.head(10)"
   ]
  },
  {
   "cell_type": "code",
   "execution_count": 4,
   "id": "noble-smile",
   "metadata": {},
   "outputs": [
    {
     "data": {
      "text/plain": [
       "(90492, 32)"
      ]
     },
     "execution_count": 4,
     "metadata": {},
     "output_type": "execute_result"
    }
   ],
   "source": [
    "data.shape"
   ]
  },
  {
   "cell_type": "code",
   "execution_count": 5,
   "id": "behind-waters",
   "metadata": {},
   "outputs": [
    {
     "name": "stdout",
     "output_type": "stream",
     "text": [
      "<class 'pandas.core.frame.DataFrame'>\n",
      "RangeIndex: 90492 entries, 0 to 90491\n",
      "Data columns (total 32 columns):\n",
      " #   Column      Non-Null Count  Dtype  \n",
      "---  ------      --------------  -----  \n",
      " 0   Unnamed: 0  90492 non-null  int64  \n",
      " 1   Time        90492 non-null  float64\n",
      " 2   V1          90492 non-null  float64\n",
      " 3   V2          90492 non-null  float64\n",
      " 4   V3          90492 non-null  float64\n",
      " 5   V4          90492 non-null  float64\n",
      " 6   V5          90492 non-null  float64\n",
      " 7   V6          90492 non-null  float64\n",
      " 8   V7          90492 non-null  float64\n",
      " 9   V8          90492 non-null  float64\n",
      " 10  V9          90492 non-null  float64\n",
      " 11  V10         90492 non-null  float64\n",
      " 12  V11         90492 non-null  float64\n",
      " 13  V12         90492 non-null  float64\n",
      " 14  V13         90492 non-null  float64\n",
      " 15  V14         90492 non-null  float64\n",
      " 16  V15         90492 non-null  float64\n",
      " 17  V16         90492 non-null  float64\n",
      " 18  V17         90492 non-null  float64\n",
      " 19  V18         90492 non-null  float64\n",
      " 20  V19         90492 non-null  float64\n",
      " 21  V20         90492 non-null  float64\n",
      " 22  V21         90492 non-null  float64\n",
      " 23  V22         90492 non-null  float64\n",
      " 24  V23         90492 non-null  float64\n",
      " 25  V24         90492 non-null  float64\n",
      " 26  V25         90492 non-null  float64\n",
      " 27  V26         90492 non-null  float64\n",
      " 28  V27         90492 non-null  float64\n",
      " 29  V28         90492 non-null  float64\n",
      " 30  Amount      90492 non-null  float64\n",
      " 31  Class       90492 non-null  float64\n",
      "dtypes: float64(31), int64(1)\n",
      "memory usage: 22.1 MB\n"
     ]
    }
   ],
   "source": [
    "data.info()"
   ]
  },
  {
   "cell_type": "code",
   "execution_count": 6,
   "id": "driven-carrier",
   "metadata": {},
   "outputs": [
    {
     "data": {
      "text/html": [
       "<div>\n",
       "<style scoped>\n",
       "    .dataframe tbody tr th:only-of-type {\n",
       "        vertical-align: middle;\n",
       "    }\n",
       "\n",
       "    .dataframe tbody tr th {\n",
       "        vertical-align: top;\n",
       "    }\n",
       "\n",
       "    .dataframe thead th {\n",
       "        text-align: right;\n",
       "    }\n",
       "</style>\n",
       "<table border=\"1\" class=\"dataframe\">\n",
       "  <thead>\n",
       "    <tr style=\"text-align: right;\">\n",
       "      <th></th>\n",
       "      <th>Unnamed: 0</th>\n",
       "      <th>Time</th>\n",
       "      <th>V1</th>\n",
       "      <th>V2</th>\n",
       "      <th>V3</th>\n",
       "      <th>V4</th>\n",
       "      <th>V5</th>\n",
       "      <th>V6</th>\n",
       "      <th>V7</th>\n",
       "      <th>V8</th>\n",
       "      <th>...</th>\n",
       "      <th>V21</th>\n",
       "      <th>V22</th>\n",
       "      <th>V23</th>\n",
       "      <th>V24</th>\n",
       "      <th>V25</th>\n",
       "      <th>V26</th>\n",
       "      <th>V27</th>\n",
       "      <th>V28</th>\n",
       "      <th>Amount</th>\n",
       "      <th>Class</th>\n",
       "    </tr>\n",
       "  </thead>\n",
       "  <tbody>\n",
       "    <tr>\n",
       "      <th>count</th>\n",
       "      <td>90492.000000</td>\n",
       "      <td>90492.000000</td>\n",
       "      <td>90492.000000</td>\n",
       "      <td>90492.000000</td>\n",
       "      <td>90492.000000</td>\n",
       "      <td>90492.000000</td>\n",
       "      <td>90492.000000</td>\n",
       "      <td>90492.000000</td>\n",
       "      <td>90492.000000</td>\n",
       "      <td>90492.000000</td>\n",
       "      <td>...</td>\n",
       "      <td>90492.000000</td>\n",
       "      <td>90492.000000</td>\n",
       "      <td>90492.000000</td>\n",
       "      <td>90492.000000</td>\n",
       "      <td>90492.000000</td>\n",
       "      <td>90492.000000</td>\n",
       "      <td>90492.000000</td>\n",
       "      <td>90492.000000</td>\n",
       "      <td>90492.000000</td>\n",
       "      <td>90492.000000</td>\n",
       "    </tr>\n",
       "    <tr>\n",
       "      <th>mean</th>\n",
       "      <td>45245.500000</td>\n",
       "      <td>40200.629890</td>\n",
       "      <td>-0.274256</td>\n",
       "      <td>-0.029542</td>\n",
       "      <td>0.656984</td>\n",
       "      <td>0.175290</td>\n",
       "      <td>-0.284587</td>\n",
       "      <td>0.090359</td>\n",
       "      <td>-0.123797</td>\n",
       "      <td>0.050615</td>\n",
       "      <td>...</td>\n",
       "      <td>-0.027678</td>\n",
       "      <td>-0.106127</td>\n",
       "      <td>-0.037209</td>\n",
       "      <td>0.009404</td>\n",
       "      <td>0.131840</td>\n",
       "      <td>0.027117</td>\n",
       "      <td>0.001113</td>\n",
       "      <td>0.002889</td>\n",
       "      <td>98.736878</td>\n",
       "      <td>0.005437</td>\n",
       "    </tr>\n",
       "    <tr>\n",
       "      <th>std</th>\n",
       "      <td>26122.934617</td>\n",
       "      <td>16722.702277</td>\n",
       "      <td>1.905411</td>\n",
       "      <td>1.683004</td>\n",
       "      <td>1.438924</td>\n",
       "      <td>1.382892</td>\n",
       "      <td>1.394790</td>\n",
       "      <td>1.306035</td>\n",
       "      <td>1.323607</td>\n",
       "      <td>1.285225</td>\n",
       "      <td>...</td>\n",
       "      <td>0.778708</td>\n",
       "      <td>0.642339</td>\n",
       "      <td>0.629591</td>\n",
       "      <td>0.594041</td>\n",
       "      <td>0.441936</td>\n",
       "      <td>0.496487</td>\n",
       "      <td>0.396893</td>\n",
       "      <td>0.326256</td>\n",
       "      <td>267.024892</td>\n",
       "      <td>0.073535</td>\n",
       "    </tr>\n",
       "    <tr>\n",
       "      <th>min</th>\n",
       "      <td>0.000000</td>\n",
       "      <td>0.000000</td>\n",
       "      <td>-56.407510</td>\n",
       "      <td>-72.715728</td>\n",
       "      <td>-33.680984</td>\n",
       "      <td>-5.172595</td>\n",
       "      <td>-42.147898</td>\n",
       "      <td>-26.160506</td>\n",
       "      <td>-43.557242</td>\n",
       "      <td>-73.216718</td>\n",
       "      <td>...</td>\n",
       "      <td>-34.830382</td>\n",
       "      <td>-10.933144</td>\n",
       "      <td>-26.751119</td>\n",
       "      <td>-2.836627</td>\n",
       "      <td>-7.495741</td>\n",
       "      <td>-2.534330</td>\n",
       "      <td>-9.390980</td>\n",
       "      <td>-9.617915</td>\n",
       "      <td>0.000000</td>\n",
       "      <td>0.000000</td>\n",
       "    </tr>\n",
       "    <tr>\n",
       "      <th>25%</th>\n",
       "      <td>22622.750000</td>\n",
       "      <td>32346.000000</td>\n",
       "      <td>-1.032114</td>\n",
       "      <td>-0.602024</td>\n",
       "      <td>0.176619</td>\n",
       "      <td>-0.715666</td>\n",
       "      <td>-0.899544</td>\n",
       "      <td>-0.649689</td>\n",
       "      <td>-0.604385</td>\n",
       "      <td>-0.140108</td>\n",
       "      <td>...</td>\n",
       "      <td>-0.223825</td>\n",
       "      <td>-0.526580</td>\n",
       "      <td>-0.177869</td>\n",
       "      <td>-0.322426</td>\n",
       "      <td>-0.132829</td>\n",
       "      <td>-0.325689</td>\n",
       "      <td>-0.063192</td>\n",
       "      <td>-0.005748</td>\n",
       "      <td>7.610000</td>\n",
       "      <td>0.000000</td>\n",
       "    </tr>\n",
       "    <tr>\n",
       "      <th>50%</th>\n",
       "      <td>45245.500000</td>\n",
       "      <td>42262.500000</td>\n",
       "      <td>-0.264227</td>\n",
       "      <td>0.074438</td>\n",
       "      <td>0.755565</td>\n",
       "      <td>0.191441</td>\n",
       "      <td>-0.314010</td>\n",
       "      <td>-0.158241</td>\n",
       "      <td>-0.071443</td>\n",
       "      <td>0.071870</td>\n",
       "      <td>...</td>\n",
       "      <td>-0.057161</td>\n",
       "      <td>-0.081941</td>\n",
       "      <td>-0.049617</td>\n",
       "      <td>0.064514</td>\n",
       "      <td>0.170764</td>\n",
       "      <td>-0.070599</td>\n",
       "      <td>0.009596</td>\n",
       "      <td>0.023242</td>\n",
       "      <td>26.970000</td>\n",
       "      <td>0.000000</td>\n",
       "    </tr>\n",
       "    <tr>\n",
       "      <th>75%</th>\n",
       "      <td>67868.250000</td>\n",
       "      <td>52729.000000</td>\n",
       "      <td>1.152464</td>\n",
       "      <td>0.733077</td>\n",
       "      <td>1.382588</td>\n",
       "      <td>1.044658</td>\n",
       "      <td>0.253724</td>\n",
       "      <td>0.486727</td>\n",
       "      <td>0.415684</td>\n",
       "      <td>0.356866</td>\n",
       "      <td>...</td>\n",
       "      <td>0.120441</td>\n",
       "      <td>0.310426</td>\n",
       "      <td>0.081435</td>\n",
       "      <td>0.405821</td>\n",
       "      <td>0.420096</td>\n",
       "      <td>0.305998</td>\n",
       "      <td>0.083231</td>\n",
       "      <td>0.076878</td>\n",
       "      <td>89.990000</td>\n",
       "      <td>0.000000</td>\n",
       "    </tr>\n",
       "    <tr>\n",
       "      <th>max</th>\n",
       "      <td>90491.000000</td>\n",
       "      <td>170348.000000</td>\n",
       "      <td>2.132386</td>\n",
       "      <td>22.057729</td>\n",
       "      <td>4.226108</td>\n",
       "      <td>16.715537</td>\n",
       "      <td>34.801666</td>\n",
       "      <td>22.529298</td>\n",
       "      <td>36.677268</td>\n",
       "      <td>20.007208</td>\n",
       "      <td>...</td>\n",
       "      <td>27.202839</td>\n",
       "      <td>10.503090</td>\n",
       "      <td>18.946734</td>\n",
       "      <td>4.014444</td>\n",
       "      <td>5.525093</td>\n",
       "      <td>3.517346</td>\n",
       "      <td>12.152401</td>\n",
       "      <td>33.847808</td>\n",
       "      <td>19656.530000</td>\n",
       "      <td>1.000000</td>\n",
       "    </tr>\n",
       "  </tbody>\n",
       "</table>\n",
       "<p>8 rows × 32 columns</p>\n",
       "</div>"
      ],
      "text/plain": [
       "         Unnamed: 0           Time            V1            V2            V3  \\\n",
       "count  90492.000000   90492.000000  90492.000000  90492.000000  90492.000000   \n",
       "mean   45245.500000   40200.629890     -0.274256     -0.029542      0.656984   \n",
       "std    26122.934617   16722.702277      1.905411      1.683004      1.438924   \n",
       "min        0.000000       0.000000    -56.407510    -72.715728    -33.680984   \n",
       "25%    22622.750000   32346.000000     -1.032114     -0.602024      0.176619   \n",
       "50%    45245.500000   42262.500000     -0.264227      0.074438      0.755565   \n",
       "75%    67868.250000   52729.000000      1.152464      0.733077      1.382588   \n",
       "max    90491.000000  170348.000000      2.132386     22.057729      4.226108   \n",
       "\n",
       "                 V4            V5            V6            V7            V8  \\\n",
       "count  90492.000000  90492.000000  90492.000000  90492.000000  90492.000000   \n",
       "mean       0.175290     -0.284587      0.090359     -0.123797      0.050615   \n",
       "std        1.382892      1.394790      1.306035      1.323607      1.285225   \n",
       "min       -5.172595    -42.147898    -26.160506    -43.557242    -73.216718   \n",
       "25%       -0.715666     -0.899544     -0.649689     -0.604385     -0.140108   \n",
       "50%        0.191441     -0.314010     -0.158241     -0.071443      0.071870   \n",
       "75%        1.044658      0.253724      0.486727      0.415684      0.356866   \n",
       "max       16.715537     34.801666     22.529298     36.677268     20.007208   \n",
       "\n",
       "       ...           V21           V22           V23           V24  \\\n",
       "count  ...  90492.000000  90492.000000  90492.000000  90492.000000   \n",
       "mean   ...     -0.027678     -0.106127     -0.037209      0.009404   \n",
       "std    ...      0.778708      0.642339      0.629591      0.594041   \n",
       "min    ...    -34.830382    -10.933144    -26.751119     -2.836627   \n",
       "25%    ...     -0.223825     -0.526580     -0.177869     -0.322426   \n",
       "50%    ...     -0.057161     -0.081941     -0.049617      0.064514   \n",
       "75%    ...      0.120441      0.310426      0.081435      0.405821   \n",
       "max    ...     27.202839     10.503090     18.946734      4.014444   \n",
       "\n",
       "                V25           V26           V27           V28        Amount  \\\n",
       "count  90492.000000  90492.000000  90492.000000  90492.000000  90492.000000   \n",
       "mean       0.131840      0.027117      0.001113      0.002889     98.736878   \n",
       "std        0.441936      0.496487      0.396893      0.326256    267.024892   \n",
       "min       -7.495741     -2.534330     -9.390980     -9.617915      0.000000   \n",
       "25%       -0.132829     -0.325689     -0.063192     -0.005748      7.610000   \n",
       "50%        0.170764     -0.070599      0.009596      0.023242     26.970000   \n",
       "75%        0.420096      0.305998      0.083231      0.076878     89.990000   \n",
       "max        5.525093      3.517346     12.152401     33.847808  19656.530000   \n",
       "\n",
       "              Class  \n",
       "count  90492.000000  \n",
       "mean       0.005437  \n",
       "std        0.073535  \n",
       "min        0.000000  \n",
       "25%        0.000000  \n",
       "50%        0.000000  \n",
       "75%        0.000000  \n",
       "max        1.000000  \n",
       "\n",
       "[8 rows x 32 columns]"
      ]
     },
     "execution_count": 6,
     "metadata": {},
     "output_type": "execute_result"
    }
   ],
   "source": [
    "data.describe()"
   ]
  },
  {
   "cell_type": "code",
   "execution_count": 7,
   "id": "unauthorized-contrary",
   "metadata": {},
   "outputs": [
    {
     "data": {
      "text/plain": [
       "Unnamed: 0    0\n",
       "Time          0\n",
       "V1            0\n",
       "V2            0\n",
       "V3            0\n",
       "V4            0\n",
       "V5            0\n",
       "V6            0\n",
       "V7            0\n",
       "V8            0\n",
       "V9            0\n",
       "V10           0\n",
       "V11           0\n",
       "V12           0\n",
       "V13           0\n",
       "V14           0\n",
       "V15           0\n",
       "V16           0\n",
       "V17           0\n",
       "V18           0\n",
       "V19           0\n",
       "V20           0\n",
       "V21           0\n",
       "V22           0\n",
       "V23           0\n",
       "V24           0\n",
       "V25           0\n",
       "V26           0\n",
       "V27           0\n",
       "V28           0\n",
       "Amount        0\n",
       "Class         0\n",
       "dtype: int64"
      ]
     },
     "execution_count": 7,
     "metadata": {},
     "output_type": "execute_result"
    }
   ],
   "source": [
    "data.isnull().sum()"
   ]
  },
  {
   "cell_type": "markdown",
   "id": "quick-transportation",
   "metadata": {},
   "source": [
    "### Exploring the Class Column\n",
    "Let us now explore a bit deeper about the data.\n",
    "\n",
    "Let us first divide the data into features and labels.\n",
    "Then we shall calculate the percentage of the fraud transaction and valid transactions in the dataset and graphically represent the same."
   ]
  },
  {
   "cell_type": "code",
   "execution_count": 8,
   "id": "unusual-trinidad",
   "metadata": {},
   "outputs": [],
   "source": [
    "X = data.loc[:, data.columns !='Class']\n",
    "y = data.loc[:, data.columns =='Class']"
   ]
  },
  {
   "cell_type": "code",
   "execution_count": 9,
   "id": "horizontal-dragon",
   "metadata": {},
   "outputs": [
    {
     "name": "stdout",
     "output_type": "stream",
     "text": [
      "0.0    90000\n",
      "1.0      492\n",
      "Name: Class, dtype: int64\n"
     ]
    }
   ],
   "source": [
    "print(data['Class'].value_counts())"
   ]
  },
  {
   "cell_type": "code",
   "execution_count": 10,
   "id": "configured-country",
   "metadata": {},
   "outputs": [
    {
     "name": "stdout",
     "output_type": "stream",
     "text": [
      "Valid Transactions:  99.46 % of the dataset\n",
      "Fraudulent Transactions:  0.54 % of the dataset\n"
     ]
    }
   ],
   "source": [
    "print('Valid Transactions: ', round(data['Class'].value_counts()[0]/len(data) * 100,2), '% of the dataset')\n",
    "\n",
    "print('Fraudulent Transactions: ', round(data['Class'].value_counts()[1]/len(data) * 100,2), '% of the dataset')"
   ]
  },
  {
   "cell_type": "markdown",
   "id": "major-intent",
   "metadata": {},
   "source": [
    "### Visualizing the class Imbalance\n",
    "Let us visualize the class-imbalance using Seaborn countplot.\n",
    "\n",
    "Note:\n",
    "sns.countplot shows the counts of observations in each categorical bin using bars."
   ]
  },
  {
   "cell_type": "code",
   "execution_count": 11,
   "id": "appropriate-survivor",
   "metadata": {},
   "outputs": [
    {
     "name": "stderr",
     "output_type": "stream",
     "text": [
      "/usr/local/lib/python3.8/dist-packages/seaborn/_decorators.py:36: FutureWarning: Pass the following variable as a keyword arg: x. From version 0.12, the only valid positional argument will be `data`, and passing other arguments without an explicit keyword will result in an error or misinterpretation.\n",
      "  warnings.warn(\n"
     ]
    },
    {
     "data": {
      "text/plain": [
       "<AxesSubplot:xlabel='Class', ylabel='count'>"
      ]
     },
     "execution_count": 11,
     "metadata": {},
     "output_type": "execute_result"
    },
    {
     "data": {
      "image/png": "[encoded data removed]",
      "text/plain": [
       "<Figure size 432x288 with 1 Axes>"
      ]
     },
     "metadata": {
      "needs_background": "light"
     },
     "output_type": "display_data"
    }
   ],
   "source": [
    "colors = ['blue','red']\n",
    "sns.countplot('Class', data=data, palette=colors)"
   ]
  },
  {
   "cell_type": "markdown",
   "id": "executed-longer",
   "metadata": {},
   "source": [
    "### Understanding Class-Imbalance\n",
    "Why don't we want class imbalance?\n",
    "\n",
    "From our analysis, we observe there is a lot of imbalance in the classes, with most of the transactions were Non-Fraud (99.83%) of the time, while Fraud transactions occur (0.17%) of the time in the dataframe.\n",
    "\n",
    "Using this imbalanced data as such is not a good idea for training a model to classify if a transaction is fraudulent or not.\n",
    "\n",
    "This is because, if this imbalanced data is used to train a model, the algorithm does not have a decent amount of fraudulent-data to learn the patterns of fraudulent transactions. Thus, it most probably assumes that every transaction is non-fraudulent(the dominant class of the data).\n",
    "\n",
    "This would be a pity because the model naively assumes but doesn't learn/detect the patterns in order to classify.\n",
    "\n",
    "Any solution?\n",
    "\n",
    "Yes! To make the dataset balanced, we could either undersample or oversample it.\n",
    "\n",
    "* Under-sampling: In undersampling, we reduce the dataset such that the number of samples of one class is to that of the other class. But this method has a trade-off with the amount of information lost in the form of the samples removed.\n",
    "* Over-sampling: Next is the oversampling technique. We increase the number of total samples in the dataset by generating the synthetic samples for the minority class in order to achieve the balance between both the classes. The simplest approach involves duplicating examples in the minority class, although these examples don’t add any new information to the model. Instead, new examples can be synthesized from the existing examples. This is a type of data augmentation for the minority class and is referred to as the Synthetic Minority Oversampling Technique, or SMOTE for short.\n",
    "\n",
    "What are we going to do now?\n",
    "* We should do most pre-processing steps (splitting the data, normalization/standardization, etc) before under/over-sampling the data.\n",
    "\n",
    "* This is because many sampling techniques require a simple model to be trained (e.g. SMOTE uses a k-NN algorithm to generate samples). These models have better performance on pre-processed datasets (e.g. both k-NN and k-means use euclidean distance, which requires the data to be normalized).\n",
    "\n",
    "* So, in order for the sampling techniques to work best, we should previously perform any pre-processing steps we can. Then we shall proceed to use SMOTE technique to oversample the train data in order to use it to rain the classification algorithm."
   ]
  },
  {
   "cell_type": "code",
   "execution_count": 12,
   "id": "attractive-ceremony",
   "metadata": {},
   "outputs": [],
   "source": [
    "from sklearn.model_selection import train_test_split \n",
    "X_train, X_test, y_train, y_test =  train_test_split(X, y, test_size=0.3, random_state=0)"
   ]
  },
  {
   "cell_type": "code",
   "execution_count": 13,
   "id": "frequent-triangle",
   "metadata": {},
   "outputs": [
    {
     "name": "stdout",
     "output_type": "stream",
     "text": [
      "Transactions in X_train dataset:  (63344, 31)\n",
      "Transaction classes in y_train dataset:  (63344, 1)\n",
      "Transactions in X_test dataset:  (27148, 31)\n",
      "Transaction classes in y_test dataset:  (27148, 1)\n"
     ]
    }
   ],
   "source": [
    "print(\"Transactions in X_train dataset: \", X_train.shape)\n",
    "print(\"Transaction classes in y_train dataset: \", y_train.shape)\n",
    "\n",
    "print(\"Transactions in X_test dataset: \", X_test.shape)\n",
    "print(\"Transaction classes in y_test dataset: \", y_test.shape)"
   ]
  },
  {
   "cell_type": "markdown",
   "id": "further-chinese",
   "metadata": {},
   "source": [
    "### Feature Scaling\n",
    "Since most of our data has already been scaled, we should scale the columns that are not yet scaled (Amount and Time).\n",
    "\n",
    "We shall use StandardScaler to scale the \"Amount\" column and the \"Time\" column."
   ]
  },
  {
   "cell_type": "code",
   "execution_count": 14,
   "id": "unavailable-reflection",
   "metadata": {},
   "outputs": [],
   "source": [
    "from sklearn.preprocessing import StandardScaler\n",
    "scaler_amount = StandardScaler()\n",
    "scaler_time = StandardScaler()"
   ]
  },
  {
   "cell_type": "code",
   "execution_count": 15,
   "id": "alive-chapter",
   "metadata": {},
   "outputs": [
    {
     "name": "stderr",
     "output_type": "stream",
     "text": [
      "<ipython-input-15-5a3de04d0d60>:1: SettingWithCopyWarning: \n",
      "A value is trying to be set on a copy of a slice from a DataFrame.\n",
      "Try using .loc[row_indexer,col_indexer] = value instead\n",
      "\n",
      "See the caveats in the documentation: https://pandas.pydata.org/pandas-docs/stable/user_guide/indexing.html#returning-a-view-versus-a-copy\n",
      "  X_train['normAmount'] = scaler_amount.fit_transform(X_train['Amount'].values.reshape(-1, 1))\n",
      "<ipython-input-15-5a3de04d0d60>:2: SettingWithCopyWarning: \n",
      "A value is trying to be set on a copy of a slice from a DataFrame.\n",
      "Try using .loc[row_indexer,col_indexer] = value instead\n",
      "\n",
      "See the caveats in the documentation: https://pandas.pydata.org/pandas-docs/stable/user_guide/indexing.html#returning-a-view-versus-a-copy\n",
      "  X_test['normAmount'] = scaler_amount.fit_transform(X_test['Amount'].values.reshape(-1, 1))\n"
     ]
    }
   ],
   "source": [
    "X_train['normAmount'] = scaler_amount.fit_transform(X_train['Amount'].values.reshape(-1, 1))\n",
    "X_test['normAmount'] = scaler_amount.fit_transform(X_test['Amount'].values.reshape(-1, 1))"
   ]
  },
  {
   "cell_type": "code",
   "execution_count": 16,
   "id": "clear-alias",
   "metadata": {},
   "outputs": [
    {
     "name": "stderr",
     "output_type": "stream",
     "text": [
      "<ipython-input-16-ebef33494267>:1: SettingWithCopyWarning: \n",
      "A value is trying to be set on a copy of a slice from a DataFrame.\n",
      "Try using .loc[row_indexer,col_indexer] = value instead\n",
      "\n",
      "See the caveats in the documentation: https://pandas.pydata.org/pandas-docs/stable/user_guide/indexing.html#returning-a-view-versus-a-copy\n",
      "  X_train['normTime'] = scaler_time.fit_transform(X_train['Time'].values.reshape(-1, 1))\n",
      "<ipython-input-16-ebef33494267>:2: SettingWithCopyWarning: \n",
      "A value is trying to be set on a copy of a slice from a DataFrame.\n",
      "Try using .loc[row_indexer,col_indexer] = value instead\n",
      "\n",
      "See the caveats in the documentation: https://pandas.pydata.org/pandas-docs/stable/user_guide/indexing.html#returning-a-view-versus-a-copy\n",
      "  X_test['normTime'] = scaler_time.fit_transform(X_test['Time'].values.reshape(-1, 1))\n"
     ]
    }
   ],
   "source": [
    "X_train['normTime'] = scaler_time.fit_transform(X_train['Time'].values.reshape(-1, 1))\n",
    "X_test['normTime'] = scaler_time.fit_transform(X_test['Time'].values.reshape(-1, 1))"
   ]
  },
  {
   "cell_type": "code",
   "execution_count": 17,
   "id": "satisfied-spanking",
   "metadata": {},
   "outputs": [],
   "source": [
    "X_train = X_train.drop(['Time', 'Amount'], axis=1)\n",
    "X_test = X_test.drop(['Time', 'Amount'], axis=1)"
   ]
  },
  {
   "cell_type": "code",
   "execution_count": 18,
   "id": "traditional-ethnic",
   "metadata": {},
   "outputs": [
    {
     "data": {
      "text/html": [
       "<div>\n",
       "<style scoped>\n",
       "    .dataframe tbody tr th:only-of-type {\n",
       "        vertical-align: middle;\n",
       "    }\n",
       "\n",
       "    .dataframe tbody tr th {\n",
       "        vertical-align: top;\n",
       "    }\n",
       "\n",
       "    .dataframe thead th {\n",
       "        text-align: right;\n",
       "    }\n",
       "</style>\n",
       "<table border=\"1\" class=\"dataframe\">\n",
       "  <thead>\n",
       "    <tr style=\"text-align: right;\">\n",
       "      <th></th>\n",
       "      <th>Unnamed: 0</th>\n",
       "      <th>V1</th>\n",
       "      <th>V2</th>\n",
       "      <th>V3</th>\n",
       "      <th>V4</th>\n",
       "      <th>V5</th>\n",
       "      <th>V6</th>\n",
       "      <th>V7</th>\n",
       "      <th>V8</th>\n",
       "      <th>V9</th>\n",
       "      <th>...</th>\n",
       "      <th>V21</th>\n",
       "      <th>V22</th>\n",
       "      <th>V23</th>\n",
       "      <th>V24</th>\n",
       "      <th>V25</th>\n",
       "      <th>V26</th>\n",
       "      <th>V27</th>\n",
       "      <th>V28</th>\n",
       "      <th>normAmount</th>\n",
       "      <th>normTime</th>\n",
       "    </tr>\n",
       "  </thead>\n",
       "  <tbody>\n",
       "    <tr>\n",
       "      <th>78576</th>\n",
       "      <td>78576</td>\n",
       "      <td>-1.611888</td>\n",
       "      <td>1.604831</td>\n",
       "      <td>0.892883</td>\n",
       "      <td>-0.277889</td>\n",
       "      <td>-0.196199</td>\n",
       "      <td>-0.169542</td>\n",
       "      <td>0.203610</td>\n",
       "      <td>0.543886</td>\n",
       "      <td>-0.403366</td>\n",
       "      <td>...</td>\n",
       "      <td>-0.140566</td>\n",
       "      <td>-0.366186</td>\n",
       "      <td>0.111010</td>\n",
       "      <td>0.009059</td>\n",
       "      <td>-0.156815</td>\n",
       "      <td>0.069569</td>\n",
       "      <td>0.103409</td>\n",
       "      <td>0.185325</td>\n",
       "      <td>-0.326282</td>\n",
       "      <td>1.032793</td>\n",
       "    </tr>\n",
       "    <tr>\n",
       "      <th>49759</th>\n",
       "      <td>49759</td>\n",
       "      <td>-2.147298</td>\n",
       "      <td>0.874199</td>\n",
       "      <td>-1.213387</td>\n",
       "      <td>2.049722</td>\n",
       "      <td>-5.087207</td>\n",
       "      <td>2.392604</td>\n",
       "      <td>4.345093</td>\n",
       "      <td>-3.156590</td>\n",
       "      <td>-1.859882</td>\n",
       "      <td>...</td>\n",
       "      <td>-1.285797</td>\n",
       "      <td>0.450085</td>\n",
       "      <td>0.835461</td>\n",
       "      <td>0.636788</td>\n",
       "      <td>0.518015</td>\n",
       "      <td>-0.086983</td>\n",
       "      <td>0.402201</td>\n",
       "      <td>-0.196894</td>\n",
       "      <td>4.063732</td>\n",
       "      <td>0.231592</td>\n",
       "    </tr>\n",
       "    <tr>\n",
       "      <th>27105</th>\n",
       "      <td>27105</td>\n",
       "      <td>-0.830880</td>\n",
       "      <td>1.234141</td>\n",
       "      <td>0.935168</td>\n",
       "      <td>0.825235</td>\n",
       "      <td>0.135080</td>\n",
       "      <td>-0.339921</td>\n",
       "      <td>0.621183</td>\n",
       "      <td>0.157227</td>\n",
       "      <td>-0.544442</td>\n",
       "      <td>...</td>\n",
       "      <td>0.150400</td>\n",
       "      <td>0.638293</td>\n",
       "      <td>-0.096839</td>\n",
       "      <td>0.098763</td>\n",
       "      <td>-0.264627</td>\n",
       "      <td>-0.327955</td>\n",
       "      <td>0.020048</td>\n",
       "      <td>-0.071746</td>\n",
       "      <td>-0.271385</td>\n",
       "      <td>-0.356163</td>\n",
       "    </tr>\n",
       "    <tr>\n",
       "      <th>7135</th>\n",
       "      <td>7135</td>\n",
       "      <td>-0.858043</td>\n",
       "      <td>0.860342</td>\n",
       "      <td>0.559186</td>\n",
       "      <td>-1.678124</td>\n",
       "      <td>-0.113119</td>\n",
       "      <td>-1.216417</td>\n",
       "      <td>0.819936</td>\n",
       "      <td>-0.046745</td>\n",
       "      <td>1.952155</td>\n",
       "      <td>...</td>\n",
       "      <td>-0.004158</td>\n",
       "      <td>0.568291</td>\n",
       "      <td>-0.039758</td>\n",
       "      <td>0.495164</td>\n",
       "      <td>-0.135031</td>\n",
       "      <td>-0.922574</td>\n",
       "      <td>0.016247</td>\n",
       "      <td>-0.080976</td>\n",
       "      <td>-0.229163</td>\n",
       "      <td>-1.909565</td>\n",
       "    </tr>\n",
       "    <tr>\n",
       "      <th>21849</th>\n",
       "      <td>21849</td>\n",
       "      <td>0.544570</td>\n",
       "      <td>-1.367618</td>\n",
       "      <td>1.279628</td>\n",
       "      <td>1.000846</td>\n",
       "      <td>-1.840064</td>\n",
       "      <td>0.076878</td>\n",
       "      <td>-0.760118</td>\n",
       "      <td>0.306967</td>\n",
       "      <td>1.021615</td>\n",
       "      <td>...</td>\n",
       "      <td>0.403494</td>\n",
       "      <td>0.543506</td>\n",
       "      <td>-0.281595</td>\n",
       "      <td>0.561415</td>\n",
       "      <td>0.037278</td>\n",
       "      <td>0.451121</td>\n",
       "      <td>-0.037627</td>\n",
       "      <td>0.071168</td>\n",
       "      <td>0.765792</td>\n",
       "      <td>-0.508419</td>\n",
       "    </tr>\n",
       "  </tbody>\n",
       "</table>\n",
       "<p>5 rows × 31 columns</p>\n",
       "</div>"
      ],
      "text/plain": [
       "       Unnamed: 0        V1        V2        V3        V4        V5        V6  \\\n",
       "78576       78576 -1.611888  1.604831  0.892883 -0.277889 -0.196199 -0.169542   \n",
       "49759       49759 -2.147298  0.874199 -1.213387  2.049722 -5.087207  2.392604   \n",
       "27105       27105 -0.830880  1.234141  0.935168  0.825235  0.135080 -0.339921   \n",
       "7135         7135 -0.858043  0.860342  0.559186 -1.678124 -0.113119 -1.216417   \n",
       "21849       21849  0.544570 -1.367618  1.279628  1.000846 -1.840064  0.076878   \n",
       "\n",
       "             V7        V8        V9  ...       V21       V22       V23  \\\n",
       "78576  0.203610  0.543886 -0.403366  ... -0.140566 -0.366186  0.111010   \n",
       "49759  4.345093 -3.156590 -1.859882  ... -1.285797  0.450085  0.835461   \n",
       "27105  0.621183  0.157227 -0.544442  ...  0.150400  0.638293 -0.096839   \n",
       "7135   0.819936 -0.046745  1.952155  ... -0.004158  0.568291 -0.039758   \n",
       "21849 -0.760118  0.306967  1.021615  ...  0.403494  0.543506 -0.281595   \n",
       "\n",
       "            V24       V25       V26       V27       V28  normAmount  normTime  \n",
       "78576  0.009059 -0.156815  0.069569  0.103409  0.185325   -0.326282  1.032793  \n",
       "49759  0.636788  0.518015 -0.086983  0.402201 -0.196894    4.063732  0.231592  \n",
       "27105  0.098763 -0.264627 -0.327955  0.020048 -0.071746   -0.271385 -0.356163  \n",
       "7135   0.495164 -0.135031 -0.922574  0.016247 -0.080976   -0.229163 -1.909565  \n",
       "21849  0.561415  0.037278  0.451121 -0.037627  0.071168    0.765792 -0.508419  \n",
       "\n",
       "[5 rows x 31 columns]"
      ]
     },
     "execution_count": 18,
     "metadata": {},
     "output_type": "execute_result"
    }
   ],
   "source": [
    "X_train.head()"
   ]
  },
  {
   "cell_type": "markdown",
   "id": "professional-speaking",
   "metadata": {},
   "source": [
    "### Understanding SMOTE\n",
    "SMOTE stands for Synthetic Minority Over-sampling Technique. SMOTE creates new synthetic points in order to have an equal balance of the classes. This is another alternative for solving the \"class imbalance problems\".\n",
    "\n",
    "\n",
    "* Achieving Balanced Classes : Using the distances between the closest neighbors of the minority class, SMOTE creates synthetic points in between these distances in order to reach an equal balance between the minority and majority class.\n",
    "* Effect: More information is retained since we don't have to delete any rows unlike in random undersampling(where we remove some data samples of majority class to achieve class balance).\n",
    "* Accuracy - Time Tradeoff: More the number of data samples, more the training time which tends to increase performance. Less the number of data samples, less the information and thus less probable of decent performance.\n",
    "\n",
    "Applying SMOTE technique\n",
    "We shall apply the SMOTE technique only on train data and keep the test data untouched so as to avoid any form of data leakage.\n",
    "\n",
    "Note:\n",
    "\n",
    "imblearn.over_sampling.SMOTE : Class to perform over-sampling using SMOTE.\n",
    "\n",
    "fit_sample : This method of imblearn.over_sampling.SMOTE is used to resample the dataset."
   ]
  },
  {
   "cell_type": "code",
   "execution_count": 19,
   "id": "finished-winter",
   "metadata": {},
   "outputs": [],
   "source": [
    "from imblearn.over_sampling import SMOTE\n"
   ]
  },
  {
   "cell_type": "code",
   "execution_count": 20,
   "id": "ambient-offset",
   "metadata": {},
   "outputs": [
    {
     "name": "stdout",
     "output_type": "stream",
     "text": [
      "Before over-sampling:\n",
      " <bound method IndexOpsMixin.value_counts of 78576    0.0\n",
      "49759    0.0\n",
      "27105    0.0\n",
      "7135     0.0\n",
      "21849    0.0\n",
      "        ... \n",
      "21243    0.0\n",
      "45891    0.0\n",
      "42613    0.0\n",
      "43567    0.0\n",
      "68268    0.0\n",
      "Name: Class, Length: 63344, dtype: float64>\n"
     ]
    }
   ],
   "source": [
    "print(\"Before over-sampling:\\n\", y_train['Class'].value_counts )\n"
   ]
  },
  {
   "cell_type": "code",
   "execution_count": 21,
   "id": "dominican-storm",
   "metadata": {},
   "outputs": [],
   "source": [
    "sm = SMOTE()"
   ]
  },
  {
   "cell_type": "code",
   "execution_count": 22,
   "id": "accessible-apartment",
   "metadata": {},
   "outputs": [],
   "source": [
    "X_train_res, y_train_res = sm.fit_resample(X_train, y_train['Class'])\n"
   ]
  },
  {
   "cell_type": "code",
   "execution_count": 23,
   "id": "stone-pride",
   "metadata": {},
   "outputs": [
    {
     "name": "stdout",
     "output_type": "stream",
     "text": [
      "After over-sampling:\n",
      " 0.0    62995\n",
      "1.0    62995\n",
      "Name: Class, dtype: int64\n"
     ]
    }
   ],
   "source": [
    "print(\"After over-sampling:\\n\", y_train_res.value_counts())\n"
   ]
  },
  {
   "cell_type": "code",
   "execution_count": 24,
   "id": "instant-brand",
   "metadata": {},
   "outputs": [],
   "source": [
    "from sklearn.model_selection import GridSearchCV \n",
    "from sklearn.linear_model import LogisticRegression \n",
    "from sklearn.metrics import confusion_matrix, auc, roc_curve \n"
   ]
  },
  {
   "cell_type": "code",
   "execution_count": 25,
   "id": "bibliographic-samuel",
   "metadata": {},
   "outputs": [],
   "source": [
    "parameters = {\"penalty\": ['l1', 'l2'], 'C': [0.001, 0.01, 0.1, 1, 10, 100, 1000]}\n"
   ]
  },
  {
   "cell_type": "code",
   "execution_count": 26,
   "id": "ruled-singer",
   "metadata": {},
   "outputs": [],
   "source": [
    "lr = LogisticRegression()\n"
   ]
  },
  {
   "cell_type": "code",
   "execution_count": 27,
   "id": "statutory-remark",
   "metadata": {},
   "outputs": [],
   "source": [
    "clf = GridSearchCV(lr, parameters, cv=5, verbose=5, n_jobs=3)\n"
   ]
  },
  {
   "cell_type": "code",
   "execution_count": 28,
   "id": "loving-mercy",
   "metadata": {},
   "outputs": [
    {
     "name": "stdout",
     "output_type": "stream",
     "text": [
      "Fitting 5 folds for each of 14 candidates, totalling 70 fits\n"
     ]
    },
    {
     "name": "stderr",
     "output_type": "stream",
     "text": [
      "/usr/local/lib/python3.8/dist-packages/sklearn/model_selection/_search.py:918: UserWarning: One or more of the test scores are non-finite: [       nan 0.99988094        nan 0.99999206        nan 0.99999206\n",
      "        nan 0.99999206        nan 1.                nan 1.\n",
      "        nan 1.        ]\n",
      "  warnings.warn(\n",
      "/usr/local/lib/python3.8/dist-packages/sklearn/linear_model/_logistic.py:763: ConvergenceWarning: lbfgs failed to converge (status=1):\n",
      "STOP: TOTAL NO. of ITERATIONS REACHED LIMIT.\n",
      "\n",
      "Increase the number of iterations (max_iter) or scale the data as shown in:\n",
      "    https://scikit-learn.org/stable/modules/preprocessing.html\n",
      "Please also refer to the documentation for alternative solver options:\n",
      "    https://scikit-learn.org/stable/modules/linear_model.html#logistic-regression\n",
      "  n_iter_i = _check_optimize_result(\n"
     ]
    }
   ],
   "source": [
    "k = clf.fit(X_train_res, y_train_res)\n"
   ]
  },
  {
   "cell_type": "code",
   "execution_count": 29,
   "id": "looking-cancer",
   "metadata": {},
   "outputs": [
    {
     "name": "stdout",
     "output_type": "stream",
     "text": [
      "{'C': 10, 'penalty': 'l2'}\n"
     ]
    }
   ],
   "source": [
    "print(k.best_params_)"
   ]
  },
  {
   "cell_type": "code",
   "execution_count": 30,
   "id": "seeing-linux",
   "metadata": {},
   "outputs": [],
   "source": [
    "lr_gridcv_best = clf.best_estimator_"
   ]
  },
  {
   "cell_type": "code",
   "execution_count": 31,
   "id": "comprehensive-moore",
   "metadata": {},
   "outputs": [],
   "source": [
    "y_test_pre = lr_gridcv_best.predict(X_test)\n"
   ]
  },
  {
   "cell_type": "code",
   "execution_count": 32,
   "id": "valid-hanging",
   "metadata": {},
   "outputs": [],
   "source": [
    "cnf_matrix_test = confusion_matrix(y_test, y_test_pre)\n"
   ]
  },
  {
   "cell_type": "code",
   "execution_count": 33,
   "id": "confirmed-theme",
   "metadata": {},
   "outputs": [
    {
     "name": "stdout",
     "output_type": "stream",
     "text": [
      "Recall metric in the test dataset: 1.0\n"
     ]
    }
   ],
   "source": [
    "print(\"Recall metric in the test dataset:\", (cnf_matrix_test[1,1]/(cnf_matrix_test[1,0]+cnf_matrix_test[1,1] )))"
   ]
  },
  {
   "cell_type": "code",
   "execution_count": 34,
   "id": "moral-tender",
   "metadata": {},
   "outputs": [],
   "source": [
    "y_train_pre = lr_gridcv_best.predict(X_train_res)\n"
   ]
  },
  {
   "cell_type": "code",
   "execution_count": 35,
   "id": "apparent-slide",
   "metadata": {},
   "outputs": [],
   "source": [
    "cnf_matrix_train = confusion_matrix(y_train_res, y_train_pre)"
   ]
  },
  {
   "cell_type": "code",
   "execution_count": 36,
   "id": "appointed-jacob",
   "metadata": {},
   "outputs": [
    {
     "name": "stdout",
     "output_type": "stream",
     "text": [
      "Recall metric in the train dataset: 1.0\n"
     ]
    }
   ],
   "source": [
    "print(\"Recall metric in the train dataset:\", (cnf_matrix_train[1,1]/(cnf_matrix_train[1,0]+cnf_matrix_train[1,1] )))"
   ]
  },
  {
   "cell_type": "code",
   "execution_count": 37,
   "id": "clear-dictionary",
   "metadata": {},
   "outputs": [],
   "source": [
    "from sklearn.metrics import plot_confusion_matrix \n",
    "\n"
   ]
  },
  {
   "cell_type": "code",
   "execution_count": 38,
   "id": "funny-paris",
   "metadata": {},
   "outputs": [
    {
     "data": {
      "image/png": "[encoded data removed]",
      "text/plain": [
       "<Figure size 432x288 with 2 Axes>"
      ]
     },
     "metadata": {
      "needs_background": "light"
     },
     "output_type": "display_data"
    }
   ],
   "source": [
    "class_names = ['Not Fraud', 'Fraud']\n",
    "plot_confusion_matrix(k, X_test, y_test,  values_format = '.5g', display_labels=class_names)\n",
    "plt.title(\"Test data Confusion Matrix\")\n",
    "plt.show()"
   ]
  },
  {
   "cell_type": "code",
   "execution_count": 39,
   "id": "searching-tradition",
   "metadata": {},
   "outputs": [
    {
     "data": {
      "image/png": "[encoded data removed]",
      "text/plain": [
       "<Figure size 432x288 with 2 Axes>"
      ]
     },
     "metadata": {
      "needs_background": "light"
     },
     "output_type": "display_data"
    }
   ],
   "source": [
    "plot_confusion_matrix(k, X_train_res, y_train_res,  values_format = '.5g', display_labels=class_names) \n",
    "plt.title(\"Oversampled Train data Confusion Matrix\")\n",
    "plt.show()"
   ]
  },
  {
   "cell_type": "code",
   "execution_count": 40,
   "id": "abandoned-romania",
   "metadata": {},
   "outputs": [],
   "source": [
    "y_k =  k.decision_function(X_test)"
   ]
  },
  {
   "cell_type": "code",
   "execution_count": 41,
   "id": "laughing-manhattan",
   "metadata": {},
   "outputs": [],
   "source": [
    "fpr, tpr, thresholds = roc_curve(y_test, y_k)"
   ]
  },
  {
   "cell_type": "code",
   "execution_count": 42,
   "id": "impressed-interface",
   "metadata": {},
   "outputs": [],
   "source": [
    "roc_auc = auc(fpr, tpr)\n"
   ]
  },
  {
   "cell_type": "code",
   "execution_count": 43,
   "id": "roman-deviation",
   "metadata": {},
   "outputs": [
    {
     "name": "stdout",
     "output_type": "stream",
     "text": [
      "ROC-AUC: 1.0\n"
     ]
    }
   ],
   "source": [
    "print(\"ROC-AUC:\", roc_auc)\n"
   ]
  },
  {
   "cell_type": "code",
   "execution_count": 44,
   "id": "appreciated-header",
   "metadata": {},
   "outputs": [
    {
     "data": {
      "image/png": "[encoded data removed]",
      "text/plain": [
       "<Figure size 432x288 with 1 Axes>"
      ]
     },
     "metadata": {
      "needs_background": "light"
     },
     "output_type": "display_data"
    }
   ],
   "source": [
    "plt.title('Receiver Operating Characteristic')\n",
    "plt.plot(fpr, tpr, 'b',label='AUC = %0.3f'% roc_auc)\n",
    "plt.legend(loc='lower right')\n",
    "plt.plot([0,1],[0,1],'r--')\n",
    "plt.xlim([-0.1,1.0])\n",
    "plt.ylim([-0.1,1.01])\n",
    "plt.ylabel('True Positive Rate')\n",
    "plt.xlabel('False Positive Rate')\n",
    "plt.show()"
   ]
  },
  {
   "cell_type": "markdown",
   "id": "silent-private",
   "metadata": {},
   "source": [
    "#### Summary\n",
    "We have been given the Europe credit-card transaction data of 2 days. For privacy reasons, the personal details have been represented in the form of Principle Components. The Amount(the transaction Amount) and Time(the seconds elapsed between each transaction and the first transaction in the dataset) are also part of the columns other than the principal components. The transactions are of valid and fraudulent types. The goal is to build a classifier to detect fraudulent transactions.\n",
    "\n",
    "We have first loaded the data, explored it, and checked for any null values. While exploring, we found that the data is of high class-imbalance, with around 99.83% being valid transactions whereas about 0.17% are fraudulent.\n",
    "\n",
    "It is not a good idea to train a classifier with such highly imbalanced data as it leads to mere assumptions rather than learning by the algorithm. We could either undersample or oversample the data to achieve a balance between the class-wise data samples.\n",
    "\n",
    "We have split the data into train and test parts, in order to prevent any data leakage and to keep the test data untouched, before oversampling.\n",
    "\n",
    "We have scaled the Amount and Time features using StandardScaler.\n",
    "\n",
    "We then applied the SMOTE technique to oversample the train data and formed a new dataset with the thus obtained over-sampled datapoints.\n",
    "\n",
    "We used the GridSearch method with different parameter values, trained logistic regression classifiers with the different combinations of these parameters, and got the best logistic regression classifier which yields the least loss on the over-sampled data-set. All this mechanism is internally implemented by GridSearchCV of sklearn.\n",
    "\n",
    "We then used the best estimator thus obtained to evaluate its performance on the unseen test data. We calculated the recall, confusion-matrix and roc-auc scores"
   ]
  },
  {
   "cell_type": "code",
   "execution_count": null,
   "id": "starting-percentage",
   "metadata": {},
   "outputs": [],
   "source": []
  }
 ],
 "metadata": {
  "kernelspec": {
   "display_name": "Python 3",
   "language": "python",
   "name": "python3"
  },
  "language_info": {
   "codemirror_mode": {
    "name": "ipython",
    "version": 3
   },
   "file_extension": ".py",
   "mimetype": "text/x-python",
   "name": "python",
   "nbconvert_exporter": "python",
   "pygments_lexer": "ipython3",
   "version": "3.8.5"
  }
 },
 "nbformat": 4,
 "nbformat_minor": 5
}
